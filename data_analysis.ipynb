{
 "cells": [
  {
   "cell_type": "markdown",
   "metadata": {},
   "source": [
    "# Data analysis of NLP Disaster tweets"
   ]
  },
  {
   "cell_type": "markdown",
   "metadata": {},
   "source": [
    "This notebook is used for data exploration"
   ]
  },
  {
   "cell_type": "code",
   "execution_count": 1,
   "metadata": {},
   "outputs": [],
   "source": [
    "%matplotlib inline\n",
    "\n",
    "import spacy\n",
    "import yaml\n",
    "import pandas as pd\n",
    "import matplotlib.pyplot as plt\n",
    "from collections import Counter\n",
    "from urllib.parse import unquote\n",
    "import preprocessor as tweet_preprocessor\n",
    "\n",
    "with open(\"params.yaml\", 'r') as stream:\n",
    "    config = yaml.safe_load(stream)\n",
    "\n",
    "plt.rcParams['figure.figsize'] = [30, 5]\n",
    "pd.set_option('display.max_rows', 10)\n",
    "\n",
    "spacy.prefer_gpu()\n",
    "nlp = spacy.load(config[\"spacy_model\"])\n",
    "\n",
    "number_most_common_features = 30"
   ]
  },
  {
   "cell_type": "markdown",
   "metadata": {},
   "source": [
    "## Table of Contents\n",
    "\n",
    "* [Overall data exploration](#Overall-data-exploration)\n",
    "* [Information extraction from tweets](#Information-extraction-from-tweets)\n",
    "* [Correlate features with disaster/not disaster target](#Correlate-features-with-disaster/not-disaster-target)\n",
    "    * [Most common tokens in each class](#Most-common-tokens-in-each-class)\n",
    "    * [Number of tokens per example in each class](#Number-of-tokens-per-example-in-each-class)\n",
    "* [Conclusions](#Conclusions)"
   ]
  },
  {
   "cell_type": "markdown",
   "metadata": {},
   "source": [
    "## Overall data exploration"
   ]
  },
  {
   "cell_type": "code",
   "execution_count": 2,
   "metadata": {},
   "outputs": [],
   "source": [
    "dataset = pd.read_csv(config[\"raw_dataset_path\"], index_col = 0)"
   ]
  },
  {
   "cell_type": "code",
   "execution_count": 3,
   "metadata": {},
   "outputs": [
    {
     "data": {
      "text/html": [
       "<div>\n",
       "<style scoped>\n",
       "    .dataframe tbody tr th:only-of-type {\n",
       "        vertical-align: middle;\n",
       "    }\n",
       "\n",
       "    .dataframe tbody tr th {\n",
       "        vertical-align: top;\n",
       "    }\n",
       "\n",
       "    .dataframe thead th {\n",
       "        text-align: right;\n",
       "    }\n",
       "</style>\n",
       "<table border=\"1\" class=\"dataframe\">\n",
       "  <thead>\n",
       "    <tr style=\"text-align: right;\">\n",
       "      <th></th>\n",
       "      <th>keyword</th>\n",
       "      <th>location</th>\n",
       "      <th>text</th>\n",
       "      <th>target</th>\n",
       "    </tr>\n",
       "    <tr>\n",
       "      <th>id</th>\n",
       "      <th></th>\n",
       "      <th></th>\n",
       "      <th></th>\n",
       "      <th></th>\n",
       "    </tr>\n",
       "  </thead>\n",
       "  <tbody>\n",
       "    <tr>\n",
       "      <th>1</th>\n",
       "      <td>NaN</td>\n",
       "      <td>NaN</td>\n",
       "      <td>Our Deeds are the Reason of this #earthquake M...</td>\n",
       "      <td>1</td>\n",
       "    </tr>\n",
       "    <tr>\n",
       "      <th>4</th>\n",
       "      <td>NaN</td>\n",
       "      <td>NaN</td>\n",
       "      <td>Forest fire near La Ronge Sask. Canada</td>\n",
       "      <td>1</td>\n",
       "    </tr>\n",
       "    <tr>\n",
       "      <th>5</th>\n",
       "      <td>NaN</td>\n",
       "      <td>NaN</td>\n",
       "      <td>All residents asked to 'shelter in place' are ...</td>\n",
       "      <td>1</td>\n",
       "    </tr>\n",
       "    <tr>\n",
       "      <th>6</th>\n",
       "      <td>NaN</td>\n",
       "      <td>NaN</td>\n",
       "      <td>13,000 people receive #wildfires evacuation or...</td>\n",
       "      <td>1</td>\n",
       "    </tr>\n",
       "    <tr>\n",
       "      <th>7</th>\n",
       "      <td>NaN</td>\n",
       "      <td>NaN</td>\n",
       "      <td>Just got sent this photo from Ruby #Alaska as ...</td>\n",
       "      <td>1</td>\n",
       "    </tr>\n",
       "  </tbody>\n",
       "</table>\n",
       "</div>"
      ],
      "text/plain": [
       "   keyword location                                               text  target\n",
       "id                                                                            \n",
       "1      NaN      NaN  Our Deeds are the Reason of this #earthquake M...       1\n",
       "4      NaN      NaN             Forest fire near La Ronge Sask. Canada       1\n",
       "5      NaN      NaN  All residents asked to 'shelter in place' are ...       1\n",
       "6      NaN      NaN  13,000 people receive #wildfires evacuation or...       1\n",
       "7      NaN      NaN  Just got sent this photo from Ruby #Alaska as ...       1"
      ]
     },
     "execution_count": 3,
     "metadata": {},
     "output_type": "execute_result"
    }
   ],
   "source": [
    "dataset.head()"
   ]
  },
  {
   "cell_type": "code",
   "execution_count": 4,
   "metadata": {},
   "outputs": [
    {
     "data": {
      "text/html": [
       "<div>\n",
       "<style scoped>\n",
       "    .dataframe tbody tr th:only-of-type {\n",
       "        vertical-align: middle;\n",
       "    }\n",
       "\n",
       "    .dataframe tbody tr th {\n",
       "        vertical-align: top;\n",
       "    }\n",
       "\n",
       "    .dataframe thead th {\n",
       "        text-align: right;\n",
       "    }\n",
       "</style>\n",
       "<table border=\"1\" class=\"dataframe\">\n",
       "  <thead>\n",
       "    <tr style=\"text-align: right;\">\n",
       "      <th></th>\n",
       "      <th>keyword</th>\n",
       "      <th>location</th>\n",
       "      <th>text</th>\n",
       "      <th>target</th>\n",
       "    </tr>\n",
       "  </thead>\n",
       "  <tbody>\n",
       "    <tr>\n",
       "      <th>count</th>\n",
       "      <td>7552</td>\n",
       "      <td>5080</td>\n",
       "      <td>7613</td>\n",
       "      <td>7613.00000</td>\n",
       "    </tr>\n",
       "    <tr>\n",
       "      <th>unique</th>\n",
       "      <td>221</td>\n",
       "      <td>3341</td>\n",
       "      <td>7503</td>\n",
       "      <td>NaN</td>\n",
       "    </tr>\n",
       "    <tr>\n",
       "      <th>top</th>\n",
       "      <td>fatalities</td>\n",
       "      <td>USA</td>\n",
       "      <td>11-Year-Old Boy Charged With Manslaughter of T...</td>\n",
       "      <td>NaN</td>\n",
       "    </tr>\n",
       "    <tr>\n",
       "      <th>freq</th>\n",
       "      <td>45</td>\n",
       "      <td>104</td>\n",
       "      <td>10</td>\n",
       "      <td>NaN</td>\n",
       "    </tr>\n",
       "    <tr>\n",
       "      <th>mean</th>\n",
       "      <td>NaN</td>\n",
       "      <td>NaN</td>\n",
       "      <td>NaN</td>\n",
       "      <td>0.42966</td>\n",
       "    </tr>\n",
       "    <tr>\n",
       "      <th>...</th>\n",
       "      <td>...</td>\n",
       "      <td>...</td>\n",
       "      <td>...</td>\n",
       "      <td>...</td>\n",
       "    </tr>\n",
       "    <tr>\n",
       "      <th>min</th>\n",
       "      <td>NaN</td>\n",
       "      <td>NaN</td>\n",
       "      <td>NaN</td>\n",
       "      <td>0.00000</td>\n",
       "    </tr>\n",
       "    <tr>\n",
       "      <th>25%</th>\n",
       "      <td>NaN</td>\n",
       "      <td>NaN</td>\n",
       "      <td>NaN</td>\n",
       "      <td>0.00000</td>\n",
       "    </tr>\n",
       "    <tr>\n",
       "      <th>50%</th>\n",
       "      <td>NaN</td>\n",
       "      <td>NaN</td>\n",
       "      <td>NaN</td>\n",
       "      <td>0.00000</td>\n",
       "    </tr>\n",
       "    <tr>\n",
       "      <th>75%</th>\n",
       "      <td>NaN</td>\n",
       "      <td>NaN</td>\n",
       "      <td>NaN</td>\n",
       "      <td>1.00000</td>\n",
       "    </tr>\n",
       "    <tr>\n",
       "      <th>max</th>\n",
       "      <td>NaN</td>\n",
       "      <td>NaN</td>\n",
       "      <td>NaN</td>\n",
       "      <td>1.00000</td>\n",
       "    </tr>\n",
       "  </tbody>\n",
       "</table>\n",
       "<p>11 rows × 4 columns</p>\n",
       "</div>"
      ],
      "text/plain": [
       "           keyword location  \\\n",
       "count         7552     5080   \n",
       "unique         221     3341   \n",
       "top     fatalities      USA   \n",
       "freq            45      104   \n",
       "mean           NaN      NaN   \n",
       "...            ...      ...   \n",
       "min            NaN      NaN   \n",
       "25%            NaN      NaN   \n",
       "50%            NaN      NaN   \n",
       "75%            NaN      NaN   \n",
       "max            NaN      NaN   \n",
       "\n",
       "                                                     text      target  \n",
       "count                                                7613  7613.00000  \n",
       "unique                                               7503         NaN  \n",
       "top     11-Year-Old Boy Charged With Manslaughter of T...         NaN  \n",
       "freq                                                   10         NaN  \n",
       "mean                                                  NaN     0.42966  \n",
       "...                                                   ...         ...  \n",
       "min                                                   NaN     0.00000  \n",
       "25%                                                   NaN     0.00000  \n",
       "50%                                                   NaN     0.00000  \n",
       "75%                                                   NaN     1.00000  \n",
       "max                                                   NaN     1.00000  \n",
       "\n",
       "[11 rows x 4 columns]"
      ]
     },
     "execution_count": 4,
     "metadata": {},
     "output_type": "execute_result"
    }
   ],
   "source": [
    "dataset.describe(include = 'all')"
   ]
  },
  {
   "cell_type": "code",
   "execution_count": 5,
   "metadata": {},
   "outputs": [
    {
     "data": {
      "text/plain": [
       "keyword       61\n",
       "location    2533\n",
       "text           0\n",
       "target         0\n",
       "dtype: int64"
      ]
     },
     "execution_count": 5,
     "metadata": {},
     "output_type": "execute_result"
    }
   ],
   "source": [
    "dataset.isna().sum()"
   ]
  },
  {
   "cell_type": "code",
   "execution_count": 6,
   "metadata": {},
   "outputs": [
    {
     "data": {
      "text/plain": [
       "52"
      ]
     },
     "execution_count": 6,
     "metadata": {},
     "output_type": "execute_result"
    }
   ],
   "source": [
    "dataset.duplicated().sum()"
   ]
  },
  {
   "cell_type": "code",
   "execution_count": 7,
   "metadata": {},
   "outputs": [
    {
     "data": {
      "text/html": [
       "<div>\n",
       "<style scoped>\n",
       "    .dataframe tbody tr th:only-of-type {\n",
       "        vertical-align: middle;\n",
       "    }\n",
       "\n",
       "    .dataframe tbody tr th {\n",
       "        vertical-align: top;\n",
       "    }\n",
       "\n",
       "    .dataframe thead th {\n",
       "        text-align: right;\n",
       "    }\n",
       "</style>\n",
       "<table border=\"1\" class=\"dataframe\">\n",
       "  <thead>\n",
       "    <tr style=\"text-align: right;\">\n",
       "      <th></th>\n",
       "      <th>keyword</th>\n",
       "      <th>location</th>\n",
       "      <th>text</th>\n",
       "      <th>target</th>\n",
       "    </tr>\n",
       "    <tr>\n",
       "      <th>id</th>\n",
       "      <th></th>\n",
       "      <th></th>\n",
       "      <th></th>\n",
       "      <th></th>\n",
       "    </tr>\n",
       "  </thead>\n",
       "  <tbody>\n",
       "    <tr>\n",
       "      <th>68</th>\n",
       "      <td>ablaze</td>\n",
       "      <td>Live On Webcam</td>\n",
       "      <td>Check these out: http://t.co/rOI2NSmEJJ http:/...</td>\n",
       "      <td>0</td>\n",
       "    </tr>\n",
       "    <tr>\n",
       "      <th>165</th>\n",
       "      <td>aftershock</td>\n",
       "      <td>US</td>\n",
       "      <td>320 [IR] ICEMOON [AFTERSHOCK] | http://t.co/vA...</td>\n",
       "      <td>0</td>\n",
       "    </tr>\n",
       "    <tr>\n",
       "      <th>172</th>\n",
       "      <td>aftershock</td>\n",
       "      <td>Switzerland</td>\n",
       "      <td>320 [IR] ICEMOON [AFTERSHOCK] | http://t.co/TH...</td>\n",
       "      <td>0</td>\n",
       "    </tr>\n",
       "    <tr>\n",
       "      <th>238</th>\n",
       "      <td>airplane%20accident</td>\n",
       "      <td>NaN</td>\n",
       "      <td>Experts in France begin examining airplane deb...</td>\n",
       "      <td>1</td>\n",
       "    </tr>\n",
       "    <tr>\n",
       "      <th>907</th>\n",
       "      <td>bioterrorism</td>\n",
       "      <td>NaN</td>\n",
       "      <td>To fight bioterrorism sir.</td>\n",
       "      <td>1</td>\n",
       "    </tr>\n",
       "    <tr>\n",
       "      <th>...</th>\n",
       "      <td>...</td>\n",
       "      <td>...</td>\n",
       "      <td>...</td>\n",
       "      <td>...</td>\n",
       "    </tr>\n",
       "    <tr>\n",
       "      <th>9113</th>\n",
       "      <td>suicide%20bomb</td>\n",
       "      <td>Nigeria</td>\n",
       "      <td>#Bestnaijamade: 16yr old PKK suicide bomber wh...</td>\n",
       "      <td>1</td>\n",
       "    </tr>\n",
       "    <tr>\n",
       "      <th>9114</th>\n",
       "      <td>suicide%20bomb</td>\n",
       "      <td>Nigeria</td>\n",
       "      <td>#Bestnaijamade: 16yr old PKK suicide bomber wh...</td>\n",
       "      <td>1</td>\n",
       "    </tr>\n",
       "    <tr>\n",
       "      <th>9135</th>\n",
       "      <td>suicide%20bomb</td>\n",
       "      <td>Nigeria</td>\n",
       "      <td>#Bestnaijamade: 16yr old PKK suicide bomber wh...</td>\n",
       "      <td>1</td>\n",
       "    </tr>\n",
       "    <tr>\n",
       "      <th>9225</th>\n",
       "      <td>suicide%20bombing</td>\n",
       "      <td>NaN</td>\n",
       "      <td>'Suicide bombing at [location named]...' #prem...</td>\n",
       "      <td>1</td>\n",
       "    </tr>\n",
       "    <tr>\n",
       "      <th>9539</th>\n",
       "      <td>terrorist</td>\n",
       "      <td>MAD as Hell</td>\n",
       "      <td>RT AbbsWinston: #Zionist #Terrorist kidnapped ...</td>\n",
       "      <td>1</td>\n",
       "    </tr>\n",
       "  </tbody>\n",
       "</table>\n",
       "<p>52 rows × 4 columns</p>\n",
       "</div>"
      ],
      "text/plain": [
       "                  keyword        location  \\\n",
       "id                                          \n",
       "68                 ablaze  Live On Webcam   \n",
       "165            aftershock              US   \n",
       "172            aftershock     Switzerland   \n",
       "238   airplane%20accident             NaN   \n",
       "907          bioterrorism             NaN   \n",
       "...                   ...             ...   \n",
       "9113       suicide%20bomb         Nigeria   \n",
       "9114       suicide%20bomb         Nigeria   \n",
       "9135       suicide%20bomb         Nigeria   \n",
       "9225    suicide%20bombing             NaN   \n",
       "9539            terrorist     MAD as Hell   \n",
       "\n",
       "                                                   text  target  \n",
       "id                                                               \n",
       "68    Check these out: http://t.co/rOI2NSmEJJ http:/...       0  \n",
       "165   320 [IR] ICEMOON [AFTERSHOCK] | http://t.co/vA...       0  \n",
       "172   320 [IR] ICEMOON [AFTERSHOCK] | http://t.co/TH...       0  \n",
       "238   Experts in France begin examining airplane deb...       1  \n",
       "907                          To fight bioterrorism sir.       1  \n",
       "...                                                 ...     ...  \n",
       "9113  #Bestnaijamade: 16yr old PKK suicide bomber wh...       1  \n",
       "9114  #Bestnaijamade: 16yr old PKK suicide bomber wh...       1  \n",
       "9135  #Bestnaijamade: 16yr old PKK suicide bomber wh...       1  \n",
       "9225  'Suicide bombing at [location named]...' #prem...       1  \n",
       "9539  RT AbbsWinston: #Zionist #Terrorist kidnapped ...       1  \n",
       "\n",
       "[52 rows x 4 columns]"
      ]
     },
     "execution_count": 7,
     "metadata": {},
     "output_type": "execute_result"
    }
   ],
   "source": [
    "dataset[dataset.duplicated()]"
   ]
  },
  {
   "cell_type": "code",
   "execution_count": 8,
   "metadata": {},
   "outputs": [
    {
     "data": {
      "text/plain": [
       "fatalities               45\n",
       "deluge                   42\n",
       "armageddon               42\n",
       "sinking                  41\n",
       "body%20bags              41\n",
       "                         ..\n",
       "forest%20fire            19\n",
       "epicentre                12\n",
       "threat                   11\n",
       "inundation               10\n",
       "radiation%20emergency     9\n",
       "Name: keyword, Length: 221, dtype: int64"
      ]
     },
     "execution_count": 8,
     "metadata": {},
     "output_type": "execute_result"
    }
   ],
   "source": [
    "dataset[\"keyword\"][dataset[\"keyword\"].notnull()].value_counts()"
   ]
  },
  {
   "cell_type": "code",
   "execution_count": 9,
   "metadata": {},
   "outputs": [
    {
     "data": {
      "text/plain": [
       "USA                         104\n",
       "New York                     71\n",
       "United States                50\n",
       "London                       45\n",
       "Canada                       29\n",
       "                           ... \n",
       "Moscow, Russia                1\n",
       "Jammu | Kashmir | Delhi       1\n",
       "L. A.                         1\n",
       "Elchilicitanierraversal       1\n",
       "Charleston S.C.               1\n",
       "Name: location, Length: 3341, dtype: int64"
      ]
     },
     "execution_count": 9,
     "metadata": {},
     "output_type": "execute_result"
    }
   ],
   "source": [
    "dataset[\"location\"][dataset[\"location\"].notnull()].value_counts()"
   ]
  },
  {
   "cell_type": "code",
   "execution_count": 10,
   "metadata": {},
   "outputs": [
    {
     "data": {
      "text/plain": [
       "id\n",
       "1        Our Deeds are the Reason of this #earthquake M...\n",
       "4                   Forest fire near La Ronge Sask. Canada\n",
       "5        All residents asked to 'shelter in place' are ...\n",
       "6        13,000 people receive #wildfires evacuation or...\n",
       "7        Just got sent this photo from Ruby #Alaska as ...\n",
       "                               ...                        \n",
       "10869    Two giant cranes holding a bridge collapse int...\n",
       "10870    @aria_ahrary @TheTawniest The out of control w...\n",
       "10871    M1.94 [01:04 UTC]?5km S of Volcano Hawaii. htt...\n",
       "10872    Police investigating after an e-bike collided ...\n",
       "10873    The Latest: More Homes Razed by Northern Calif...\n",
       "Name: text, Length: 7613, dtype: object"
      ]
     },
     "execution_count": 10,
     "metadata": {},
     "output_type": "execute_result"
    }
   ],
   "source": [
    "dataset[\"text\"]"
   ]
  },
  {
   "cell_type": "code",
   "execution_count": 11,
   "metadata": {},
   "outputs": [
    {
     "data": {
      "text/plain": [
       "0    4342\n",
       "1    3271\n",
       "Name: target, dtype: int64"
      ]
     },
     "execution_count": 11,
     "metadata": {},
     "output_type": "execute_result"
    }
   ],
   "source": [
    "dataset[\"target\"].value_counts()"
   ]
  },
  {
   "cell_type": "code",
   "execution_count": 12,
   "metadata": {},
   "outputs": [
    {
     "data": {
      "text/plain": [
       "<matplotlib.axes._subplots.AxesSubplot at 0x7f5821202580>"
      ]
     },
     "execution_count": 12,
     "metadata": {},
     "output_type": "execute_result"
    },
    {
     "data": {
      "image/png": "[encoded data removed]",
      "text/plain": [
       "<Figure size 2160x360 with 1 Axes>"
      ]
     },
     "metadata": {
      "needs_background": "light"
     },
     "output_type": "display_data"
    }
   ],
   "source": [
    "dataset[\"target\"].hist(bins=2)"
   ]
  },
  {
   "cell_type": "code",
   "execution_count": 13,
   "metadata": {},
   "outputs": [
    {
     "data": {
      "text/plain": [
       "array(['Our Deeds are the Reason of this #earthquake May ALLAH Forgive us all',\n",
       "       'Forest fire near La Ronge Sask. Canada',\n",
       "       \"All residents asked to 'shelter in place' are being notified by officers. No other evacuation or shelter in place orders are expected\",\n",
       "       '13,000 people receive #wildfires evacuation orders in California ',\n",
       "       'Just got sent this photo from Ruby #Alaska as smoke from #wildfires pours into a school ',\n",
       "       '#RockyFire Update => California Hwy. 20 closed in both directions due to Lake County fire - #CAfire #wildfires',\n",
       "       '#flood #disaster Heavy rain causes flash flooding of streets in Manitou, Colorado Springs areas',\n",
       "       \"I'm on top of the hill and I can see a fire in the woods...\",\n",
       "       \"There's an emergency evacuation happening now in the building across the street\",\n",
       "       \"I'm afraid that the tornado is coming to our area...\",\n",
       "       'Three people died from the heat wave so far',\n",
       "       'Haha South Tampa is getting flooded hah- WAIT A SECOND I LIVE IN SOUTH TAMPA WHAT AM I GONNA DO WHAT AM I GONNA DO FVCK #flooding',\n",
       "       \"#raining #flooding #Florida #TampaBay #Tampa 18 or 19 days. I've lost count \",\n",
       "       '#Flood in Bago Myanmar #We arrived Bago',\n",
       "       'Damage to school bus on 80 in multi car crash #BREAKING ',\n",
       "       '@bbcmtd Wholesale Markets ablaze http://t.co/lHYXEOHY6C',\n",
       "       '#AFRICANBAZE: Breaking news:Nigeria flag set ablaze in Aba. http://t.co/2nndBGwyEi',\n",
       "       'INEC Office in Abia Set Ablaze - http://t.co/3ImaomknnA',\n",
       "       'Barbados #Bridgetown JAMAICA \\x89ÛÒ Two cars set ablaze: SANTA CRUZ \\x89ÛÓ Head of the St Elizabeth Police Superintende...  http://t.co/wDUEaj8Q4J',\n",
       "       'How the West was burned: Thousands of wildfires ablaze in California alone http://t.co/vl5TBR3wbr',\n",
       "       'Deputies: Man shot before Brighton home set ablaze http://t.co/gWNRhMSO8k',\n",
       "       'Man wife get six years jail for setting ablaze niece\\nhttp://t.co/eV1ahOUCZA',\n",
       "       'Police: Arsonist Deliberately Set Black Church In North CarolinaåÊAblaze http://t.co/pcXarbH9An',\n",
       "       '#Kurds trampling on Turkmen flag later set it ablaze while others vandalized offices of Turkmen Front in #Diyala http://t.co/4IzFdYC3cg',\n",
       "       'TRUCK ABLAZE : R21. VOORTREKKER AVE. OUTSIDE OR TAMBO INTL. CARGO SECTION. http://t.co/8kscqKfKkF',\n",
       "       'How the West was burned: Thousands of wildfires ablaze in #California alone http://t.co/iCSjGZ9tE1 #climate #energy http://t.co/9FxmN0l0Bd',\n",
       "       \"@Navista7 Steve these fires out here are something else! California is a tinderbox - and this clown was setting my 'hood ablaze @News24680\",\n",
       "       '@nxwestmidlands huge fire at Wholesale markets ablaze http://t.co/rwzbFVNXER',\n",
       "       'Accident on I-24 W #NashvilleTraffic. Traffic moving 8m slower than usual. https://t.co/0GHk693EgJ',\n",
       "       'Accident center lane blocked in #SantaClara on US-101 NB before Great America Pkwy #BayArea #Traffic http://t.co/pmlOhZuRWR',\n",
       "       'Reported motor vehicle accident in Curry on Herman Rd near Stephenson involving an overturned vehicle. Please use... http://t.co/YbJezKuRW1',\n",
       "       'BigRigRadio Live Accident Awareness',\n",
       "       'I-77 Mile Marker 31 South Mooresville  Iredell Vehicle Accident Ramp Closed at 8/6 1:18 PM',\n",
       "       'Traffic accident N CABRILLO HWY/MAGELLAN AV MIR (08/06/15 11:03:58)',\n",
       "       'I-77 Mile Marker 31 to 40 South Mooresville  Iredell Vehicle Accident Congestion at 8/6 1:18 PM',\n",
       "       'the pastor was not in the scene of the accident......who was the owner of the range rover ?',\n",
       "       \"I was in a horrible car accident this past Sunday. I'm finally able to get around. Thank you GOD??\",\n",
       "       \"#TruckCrash Overturns On #FortWorth Interstate http://t.co/Rs22LJ4qFp Click here if you've been in a crash&gt;http://t.co/Ld0unIYw4k\",\n",
       "       'Accident in #Ashville on US 23 SB before SR 752 #traffic http://t.co/hylMo0WgFI',\n",
       "       'Carolina accident: Motorcyclist Dies in I-540 Crash With Car That Crossed Median: A motorcycle rider traveling... http://t.co/p18lzRlmy6',\n",
       "       'FYI CAD:FYI: ;ACCIDENT PROPERTY DAMAGE;NHS;999 PINER RD/HORNDALE DR',\n",
       "       'RT nAAYf: First accident in years. Turning onto Chandanee Magu from near MMA. Taxi rammed into me while I was halfway turned. Everyone conf\\x89Û_',\n",
       "       'Accident left lane blocked in #Manchester on Rt 293 NB before Eddy Rd stop and go traffic back to NH-3A delay of 4 mins #traffic',\n",
       "       ';ACCIDENT PROPERTY DAMAGE; PINER RD/HORNDALE DR',\n",
       "       'FYI CAD:FYI: ;ACCIDENT PROPERTY DAMAGE;WPD;1600 S 17TH ST',\n",
       "       '8/6/2015@2:09 PM: TRAFFIC ACCIDENT NO INJURY at 2781 WILLIS FOREMAN RD http://t.co/VCkIT6EDEv',\n",
       "       'Aashiqui Actress Anu Aggarwal On Her Near-Fatal Accident http://t.co/6Otfp31LqW',\n",
       "       'Suffield Alberta Accident https://t.co/bPTmlF4P10',\n",
       "       '9 Mile backup on I-77 South...accident blocking the Right 2 Lanes at Exit 31 Langtree Rd...consider NC 115 or NC 150 to NC 16 as alternate',\n",
       "       \"#BREAKING: there was a deadly motorcycle car accident that happened to #Hagerstown today. I'll have more details at 5 @Your4State. #WHAG\",\n",
       "       \"only had a car for not even a week and got in a fucking car accident .. Mfs can't fucking drive .\",\n",
       "       '.@NorwayMFA #Bahrain police had previously died in a road accident they were not killed by explosion https://t.co/gFJfgTodad',\n",
       "       'Experts in France begin examining airplane debris found on Reunion Island: French air accident experts o... http://t.co/YVVPznZmXg #news',\n",
       "       'Strict liability in the context of an airplane accident: Pilot error is a common component of most aviation cr... http://t.co/6CZ3bOhRd4',\n",
       "       'Experts in France begin examining airplane debris found on Reunion Island: French air accident experts on Wedn... http://t.co/bKpFpOGySI',\n",
       "       \"@AlexAllTimeLow awwww they're on an airplane accident and they're gonna die what a cuties ???? good job!\",\n",
       "       'family members of osama bin laden have died in an airplane accident how ironic ?????? mhmmm gov shit i suspect',\n",
       "       'Man Goes into Airplane Engine Accident: http://t.co/TYJxrFd3St via @YouTube',\n",
       "       'Horrible Accident  Man Died In Wings of Airplane (29-07-2015) http://t.co/i7kZtevb2v',\n",
       "       'A Cessna airplane accident in Ocampo Coahuila Mexico on July 29 2015 killed four men including a State of Coahuila government official.',\n",
       "       '#Horrible #Accident Man Died In Wings Airplane (29-07-2015) #WatchTheVideo http://t.co/p64xRVgJIk',\n",
       "       'Experts in France begin examining airplane debris found on Reunion Island http://t.co/LsMx2vwr3J French air accident experts on Wednesday\\x89Û_',\n",
       "       'Experts in France begin examining airplane debris found on Reunion Island: French air accident experts on Wednesday began examining t...',\n",
       "       \"#KCA #VoteJKT48ID mbataweel: #RIP #BINLADEN Family members who killed in an airplane's accident\",\n",
       "       'Experts in France begin examining airplane debris found on Reunion Island: French air accident experts on... http://t.co/TagZbcXFj0 #MLB',\n",
       "       'This is unbelievably insane.\\n#man #airport #airplane #aircraft #aeroplane #runway #accident #freaky\\x89Û_ https://t.co/cezhq7CzLl',\n",
       "       'Horrible Accident |  Man Died In Wings of AirplaneåÊ(29-07-2015) http://t.co/wq3wJsgPHL',\n",
       "       'Horrible Accident Man Died In Wings of Airplane (29-07-2015) http://t.co/TfcdRONRA6',\n",
       "       'Usama bin Ladins family dead in airplane crash. Naturally no accident.',\n",
       "       'Pilot Dies In Plane Crash At Car Festival https://t.co/kQ9aE6AP2B via @YouTube #Crash #Aircraft #Airplane #Pilot #Death #Accident #CarFest',\n",
       "       'Strict liability in the context of an airplane accident - http://t.co/gibyQHhKpk',\n",
       "       'DTN Brazil: Experts in France begin examining airplane debris found on Reunion Island: French air accident exp... http://t.co/M9IG3WQ8Lq',\n",
       "       'Experts in France begin examining airplane debris found on Reunion Island: French air accident experts on Wedn... http://t.co/v4SMAESLK5',\n",
       "       'Horrible Accident Man Died In Wings Of \\x89ÛÏAirplane\\x89Û\\x9d 29-07-2015. WTF You Can\\x89Ûªt Believe Your EYES \\x89ÛÒ... http://t.co/6fFyLAjWpS',\n",
       "       \"+ Nicole Fletcher one of a victim of crashed airplane few times ago. \\n\\nThe accident left a little bit trauma for her. Although she's \\n\\n+\",\n",
       "       'OMG Horrible Accident Man Died in Wings of Airplane. http://t.co/xDxDPrcPnS',\n",
       "       \"#OMG! I don't believe this. #RIP bro\\n#AirPlane #Accident #JetEngine #TurboJet #Boing #G90 http://t.co/KXxnSZp6nk\",\n",
       "       'Experts in France begin examining airplane debris found on Reunion Island: French air accident experts on Wednesday began examining t...',\n",
       "       'I had a airplane accident.',\n",
       "       'airplane crashes on house in Colombia 12 people die in accident https://t.co/ZhJlfLBHZL',\n",
       "       'The shooting or the airplane accident  https://t.co/iECc1JDOub',\n",
       "       'Could a drone cause an airplane accident? Pilots worried about use of drones esp. in close vicinity of airports http://t.co/kz35rGngJF #',\n",
       "       'Early wake up call from my sister begging me to come over &amp; ride w/her in the ambulance to the hospital #RODKiai',\n",
       "       'http://t.co/AY6zzcUpnz Twelve feared killed in Pakistani air ambulance helicopter crash http://t.co/sC9dNS41Mc',\n",
       "       'Two air ambulances on scene of serious crash between two cars and lorry in ... - http://t.co/9pFEaQeSki http://t.co/fntG70rnkx | #EMSNe\\x89Û_',\n",
       "       'Twelve feared killed in Pakistani air ambulance helicopter crash - Reuters http://t.co/mDnUGVuBwN #yugvani',\n",
       "       \"Anyone travelling Aberystwyth-Shrewsbury right now there's been an incident. Services at a halt just outside Shrews. Ambulance on scene.\",\n",
       "       'Twelve feared killed in Pakistani air ambulance helicopter crash http://t.co/Xum8YLcb4Q',\n",
       "       '@20skyhawkmm20 @traplord_29 @FREDOSANTANA300 @LilReese300 it was hella crazy 3 fights an ambulance and a couple mosh pits ??',\n",
       "       '#news Twelve feared killed in Pakistani air ambulance helicopter crash http://t.co/bFeS5tWBzt #til_now #DNA',\n",
       "       'http://t.co/7xGLah10zL Twelve feared killed in Pakistani air ambulance helicopter crash http://t.co/THmblAATzP',\n",
       "       'Pakistan air ambulance helicopter crash kills nine http://t.co/8E7rY8eBMf',\n",
       "       'http://t.co/FCqmKFfflW Twelve feared killed in Pakistani air ambulance helicopter crash http://t.co/vAyaYmbNgu',\n",
       "       'Twelve feared killed in Pakistani air ambulance helicopter crash http://t.co/3bRme6Sn4t',\n",
       "       \"when you don't know which way an ambulance is coming from &lt;&lt;\",\n",
       "       '#reuters Twelve feared killed in Pakistani air ambulance helicopter crash http://t.co/ShzPyIQok5',\n",
       "       'http://t.co/pWwpUm6RBj Twelve feared killed in Pakistani air ambulance helicopter crash http://t.co/ySpON4d6Qo',\n",
       "       'http://t.co/FueRk0gWui Twelve feared killed in Pakistani air ambulance helicopter crash http://t.co/Mv7GgGlmVc',\n",
       "       'http://t.co/X5YEUYLT1X Twelve feared killed in Pakistani air ambulance helicopter crash http://t.co/2UgrMd1z1n',\n",
       "       'Twelve feared killed in Pakistani air ambulance helicopter crash http://t.co/TH9YwBbeet #worldNews'],\n",
       "      dtype=object)"
      ]
     },
     "execution_count": 13,
     "metadata": {},
     "output_type": "execute_result"
    }
   ],
   "source": [
    "dataset[dataset[\"target\"] == 1][\"text\"].values[0:100]"
   ]
  },
  {
   "cell_type": "code",
   "execution_count": 14,
   "metadata": {},
   "outputs": [
    {
     "data": {
      "text/plain": [
       "array([\"What's up man?\", 'I love fruits', 'Summer is lovely',\n",
       "       'My car is so fast', 'What a goooooooaaaaaal!!!!!!',\n",
       "       'this is ridiculous....', 'London is cool ;)', 'Love skiing',\n",
       "       'What a wonderful day!', 'LOOOOOOL',\n",
       "       \"No way...I can't eat that shit\", 'Was in NYC last week!',\n",
       "       'Love my girlfriend', 'Cooool :)', 'Do you like pasta?',\n",
       "       'The end!',\n",
       "       'We always try to bring the heavy. #metal #RT http://t.co/YAo1e0xngw',\n",
       "       'Crying out for more! Set me ablaze',\n",
       "       'On plus side LOOK AT THE SKY LAST NIGHT IT WAS ABLAZE http://t.co/qqsmshaJ3N',\n",
       "       \"@PhDSquares #mufc they've built so much hype around new acquisitions but I doubt they will set the EPL ablaze this season.\",\n",
       "       'Ablaze for you Lord :D',\n",
       "       'Check these out: http://t.co/rOI2NSmEJJ http://t.co/3Tj8ZjiN21 http://t.co/YDUiXEfIpE http://t.co/LxTjc87KLS #nsfw',\n",
       "       \"on the outside you're ablaze and alive\\nbut you're dead inside\",\n",
       "       'Had an awesome time visiting the CFC head office the ancop site and ablaze. Thanks to Tita Vida for taking care of us ??',\n",
       "       'SOOOO PUMPED FOR ABLAZE ???? @southridgelife',\n",
       "       'I wanted to set Chicago ablaze with my preaching... But not my hotel! http://t.co/o9qknbfOFX',\n",
       "       'I gained 3 followers in the last week. You? Know your stats and grow with http://t.co/TIyUliF5c6',\n",
       "       'Building the perfect tracklist to life leave the streets ablaze',\n",
       "       'Check these out: http://t.co/rOI2NSmEJJ http://t.co/3Tj8ZjiN21 http://t.co/YDUiXEfIpE http://t.co/LxTjc87KLS #nsfw',\n",
       "       \"First night with retainers in. It's quite weird. Better get used to it; I have to wear them every single night for the next year at least.\",\n",
       "       'SANTA CRUZ \\x89ÛÓ Head of the St Elizabeth Police Superintendent Lanford Salmon has r ... - http://t.co/vplR5Hka2u http://t.co/SxHW2TNNLf',\n",
       "       \"Noches El-Bestia '@Alexis_Sanchez: happy to see my teammates and training hard ?? goodnight gunners.?????? http://t.co/uc4j4jHvGR'\",\n",
       "       'Set our hearts ablaze and every city was a gift And every skyline was like a kiss upon the lips @\\x89Û_ https://t.co/cYoMPZ1A0Z',\n",
       "       \"They sky was ablaze tonight in Los Angeles. I'm expecting IG and FB to be filled with sunset shots if I know my peeps!!\",\n",
       "       'Revel in yours wmv videos by means of mac farewell ablaze wmv en route to dvd: GtxRWm',\n",
       "       \"Progressive greetings!\\n\\nIn about a month students would have set their pens ablaze in The Torch Publications'... http://t.co/9FxPiXQuJt\",\n",
       "       'Rene Ablaze &amp; Jacinta - Secret 2k13 (Fallen Skies Edit) - Mar 30 2013  https://t.co/7MLMsUzV1Z',\n",
       "       '#NowPlaying: Rene Ablaze &amp; Ian Buff - Magnitude http://t.co/Av2JSjfFtc  #EDM',\n",
       "       \"@ablaze what time does your talk go until? I don't know if I can make it due to work.\",\n",
       "       \"'I can't have kids cuz I got in a bicycle accident &amp; split my testicles. it's impossible for me to have kids' MICHAEL YOU ARE THE FATHER\",\n",
       "       'http://t.co/GKYe6gjTk5 Had a #personalinjury accident this summer? Read our advice &amp; see how a #solicitor can help #OtleyHour',\n",
       "       '#stlouis #caraccidentlawyer Speeding Among Top Causes of Teen Accidents https://t.co/k4zoMOF319 https://t.co/S2kXVM0cBA Car Accident tee\\x89Û_',\n",
       "       'RT @SleepJunkies: Sleeping pills double your risk of a car accident http://t.co/7s9Nm1fiCT',\n",
       "       \"'By accident' they knew what was gon happen https://t.co/Ysxun5vCeh\",\n",
       "       \"mom: 'we didn't get home as fast as we wished' \\nme: 'why is that?'\\nmom: 'there was an accident and some truck spilt mayonnaise all over ??????\",\n",
       "       'Can wait to see how pissed Donnie is when I tell him I was in ANOTHER accident??',\n",
       "       '???? it was an accident http://t.co/Oia5fxi4gM',\n",
       "       'Has an accident changed your life? We will help you determine options that can financially support life care plans and on-going treatment.',\n",
       "       '@flowri were you marinading it or was it an accident?',\n",
       "       'I still have not heard Church Leaders of Kenya coming forward to comment on the accident issue and disciplinary measures#ArrestPastorNganga',\n",
       "       '@afterShock_DeLo scuf ps live and the game... cya',\n",
       "       \"'The man who can drive himself further once the effort gets painful is the man who will win.' \\nRoger Bannister\",\n",
       "       '320 [IR] ICEMOON [AFTERSHOCK] | http://t.co/yNXnvVKCDA | @djicemoon | #Dubstep #TrapMusic #DnB #EDM #Dance #Ices\\x89Û_ http://t.co/weQPesENku',\n",
       "       \"'There is no victory at bargain basement prices.' Dwight David Eisenhower\",\n",
       "       '320 [IR] ICEMOON [AFTERSHOCK] | http://t.co/vAM5POdGyw | @djicemoon | #Dubstep #TrapMusic #DnB #EDM #Dance #Ices\\x89Û_ http://t.co/zEVakJaPcz',\n",
       "       \"'Nobody remembers who came in second.' Charles Schulz\",\n",
       "       '@afterShock_DeLo im speaking from someone that is using a scuf on xb1 most of them people will end up getting on for ps also.',\n",
       "       \"'The harder the conflict the more glorious the triumph.' Thomas Paine\",\n",
       "       \"#GrowingUpSpoiled going clay pigeon shooting and crying because of the 'aftershock'\",\n",
       "       'So i guess no one actually wants any free Aftershock TC.....',\n",
       "       \"Aftershock was the most terrifying best roller coaster I've ever been on. *DISCLAIMER* I've been on very few.\",\n",
       "       'Aftershock https://t.co/xMWODFMtUI',\n",
       "       '320 [IR] ICEMOON [AFTERSHOCK] | http://t.co/M4JDZMGJoW | @djicemoon | #Dubstep #TrapMusic #DnB #EDM #Dance #Ices\\x89Û_ http://t.co/n0uhAsfkBv',\n",
       "       '320 [IR] ICEMOON [AFTERSHOCK] | http://t.co/vAM5POdGyw | @djicemoon | #Dubstep #TrapMusic #DnB #EDM #Dance #Ices\\x89Û_ http://t.co/zEVakJaPcz',\n",
       "       '320 [IR] ICEMOON [AFTERSHOCK] | http://t.co/e14EPzhotH | @djicemoon | #Dubstep #TrapMusic #DnB #EDM #Dance #Ices\\x89Û_ http://t.co/22a9D5DO6q',\n",
       "       \"@KJForDays I'm seeing them and Issues at aftershock ??\",\n",
       "       '320 [IR] ICEMOON [AFTERSHOCK] | http://t.co/THyzOMVWU0 | @djicemoon | #Dubstep #TrapMusic #DnB #EDM #Dance #Ices\\x89Û_ http://t.co/83jOO0xk29',\n",
       "       '320 [IR] ICEMOON [AFTERSHOCK] | http://t.co/THyzOMVWU0 | @djicemoon | #Dubstep #TrapMusic #DnB #EDM #Dance #Ices\\x89Û_ http://t.co/83jOO0xk29',\n",
       "       '#WisdomWed BONUS - 5 Minute Daily Habits that could really improve your life. How many do you already do? #lifehacks http://t.co/TBm9FQb8cW',\n",
       "       'Aftershock: Protect Yourself and Profit in the Next Global Financial Meltdown by David Wiedemer http http://t.co/WZTz4hgMVq',\n",
       "       'That moment when you get on a scary roller coaster and the guy behind you is just screaming bloody murder ?????? #silverwood #aftershock',\n",
       "       'Aftershock \\x89ã¢ (2010) Full\\x89ã¢ Streaming - YouTube http://t.co/vVE3UsesGf',\n",
       "       '&gt;&gt; $15 Aftershock : Protect Yourself and Profit in the Next Global Financial... ##book http://t.co/f6ntUc734Z\\n@esquireattire',\n",
       "       \"Sometimes you face difficulties not because you're doing something wrong but because you're doing something right. - Joel Osteen\",\n",
       "       \"'The only thing that stands between you and your dream is the will to try and the belief that it is actually possible.' - Joel Brown\",\n",
       "       'Praise God that we have ministry that tells it like it is!!! #now #wdyouth #biblestudy https://t.co/UjK0e5GBcC',\n",
       "       \"'Remembering that you are going to die is the best way I know to avoid the trap of thinking you have something to lose.' \\x89ÛÒ Steve Jobs\",\n",
       "       'Tried orange aftershock today. My life will never be the same',\n",
       "       '@OnFireAnders I love you bb',\n",
       "       'Aftershock https://t.co/jV8ppKhJY7',\n",
       "       'Aftershock back to school kick off was great. I want to thank everyone for making it possible. What a great night.',\n",
       "       'People who say it cannot be done should not interrupt those who are doing it. \\x89ÛÒ George Bernard Shaw',\n",
       "       \"'The first man gets the oyster the second man gets the shell.' Andrew Carnegie\",\n",
       "       'Anyone need a P/U tonight? I play Hybrid Slayer ps4 EU. HMU @Cod8sandscrims @EmpirikGaming @CoDAWScrims @4TP_KOTC @4TPFA @afterShock_Org',\n",
       "       '@crobscarla your lifetime odds of dying from an airplane accident are 1 in 8015.',\n",
       "       'I almost sent my coworker nudes on accident thank god for airplane mode',\n",
       "       \"@mickinyman @TheAtlantic That or they might be killed in an airplane accident in the night a car wreck! Politics at it's best.\",\n",
       "       'My phone looks like it was in a car ship airplane accident. Terrible',\n",
       "       \"Statistically I'm at more of risk of getting killed by a cop than I am of dying in an airplane accident.\",\n",
       "       'Leading emergency services boss welcomes new ambulance charity http://t.co/Mj2jQ2pSv6',\n",
       "       'AMBULANCE SPRINTER AUTOMATIC FRONTLINE VEHICLE CHOICE OF 14 LEZ COMPLIANT | eBay http://t.co/4evTTqPEia',\n",
       "       'New Nanotech Device Will Be Able To Target And Destroy Blood Clots http://t.co/HFy5V3sLBB',\n",
       "       'If I get run over by an ambulance am I lucky? #justsaying #randomthought',\n",
       "       '@TanSlash waiting for an ambulance',\n",
       "       '@fouseyTUBE you ok? Need a ambulance. Hahahah that was good! http://t.co/ZSbErqNN9n',\n",
       "       'AMBULANCE SPRINTER AUTOMATIC FRONTLINE VEHICLE CHOICE OF 14 LEZ COMPLIANT | eBay http://t.co/q8IVrzOJZv',\n",
       "       '@TheNissonian @RejectdCartoons nissan are you ok do you need medical assistance i can call an ambulance if you need me to',\n",
       "       'EMS1: NY EMTs petition for $17 per hour \\x89Û÷minimum wage\\x89Ûª http://t.co/4oa6SWlxmR #ems #paramedics #ambulance',\n",
       "       'AMBULANCE SPRINTER AUTOMATIC FRONTLINE VEHICLE CHOICE OF 14 LEZ COMPLIANT | eBay http://t.co/UJrX9kgawp',\n",
       "       'AMBULANCE SPRINTER AUTOMATIC FRONTLINE VEHICLE CHOICE OF 14 LEZ COMPLIANT | eBay http://t.co/Kp2Lf4AuTe'],\n",
       "      dtype=object)"
      ]
     },
     "execution_count": 14,
     "metadata": {},
     "output_type": "execute_result"
    }
   ],
   "source": [
    "dataset[dataset[\"target\"] == 0][\"text\"].values[0:100]"
   ]
  },
  {
   "cell_type": "markdown",
   "metadata": {},
   "source": [
    "## Information extraction from tweets"
   ]
  },
  {
   "cell_type": "code",
   "execution_count": 15,
   "metadata": {},
   "outputs": [],
   "source": [
    "dataset[\"text_cleaned\"] = dataset.apply(lambda row: tweet_preprocessor.clean(row[\"text\"]), axis=1)"
   ]
  },
  {
   "cell_type": "code",
   "execution_count": 16,
   "metadata": {},
   "outputs": [],
   "source": [
    "dataset[\"text_tokenized\"] = dataset.apply(lambda row: tweet_preprocessor.tokenize(row[\"text\"]), axis=1)"
   ]
  },
  {
   "cell_type": "code",
   "execution_count": 17,
   "metadata": {},
   "outputs": [
    {
     "data": {
      "text/plain": [
       "['__class__',\n",
       " '__delattr__',\n",
       " '__dict__',\n",
       " '__dir__',\n",
       " '__doc__',\n",
       " '__eq__',\n",
       " '__format__',\n",
       " '__ge__',\n",
       " '__getattribute__',\n",
       " '__gt__',\n",
       " '__hash__',\n",
       " '__init__',\n",
       " '__init_subclass__',\n",
       " '__le__',\n",
       " '__lt__',\n",
       " '__module__',\n",
       " '__ne__',\n",
       " '__new__',\n",
       " '__reduce__',\n",
       " '__reduce_ex__',\n",
       " '__repr__',\n",
       " '__setattr__',\n",
       " '__sizeof__',\n",
       " '__str__',\n",
       " '__subclasshook__',\n",
       " '__weakref__',\n",
       " 'emojis',\n",
       " 'hashtags',\n",
       " 'mentions',\n",
       " 'numbers',\n",
       " 'reserved',\n",
       " 'reserved_words',\n",
       " 'smileys',\n",
       " 'urls']"
      ]
     },
     "execution_count": 17,
     "metadata": {},
     "output_type": "execute_result"
    }
   ],
   "source": [
    "dir(tweet_preprocessor.parse(dataset[\"text\"].values[0]))"
   ]
  },
  {
   "cell_type": "code",
   "execution_count": 18,
   "metadata": {},
   "outputs": [],
   "source": [
    "def extract_match(text):\n",
    "    return [match.match for match in text] if text is not None else text"
   ]
  },
  {
   "cell_type": "code",
   "execution_count": 19,
   "metadata": {},
   "outputs": [],
   "source": [
    "dataset[\"text_emojis\"] = dataset.apply(lambda row: extract_match(tweet_preprocessor.parse(row[\"text\"]).emojis), axis=1)"
   ]
  },
  {
   "cell_type": "code",
   "execution_count": 20,
   "metadata": {},
   "outputs": [],
   "source": [
    "dataset[\"text_hashtags\"] = dataset.apply(lambda row: extract_match(tweet_preprocessor.parse(row[\"text\"]).hashtags), axis=1)"
   ]
  },
  {
   "cell_type": "code",
   "execution_count": 21,
   "metadata": {},
   "outputs": [],
   "source": [
    "dataset[\"text_mentions\"] = dataset.apply(lambda row: extract_match(tweet_preprocessor.parse(row[\"text\"]).mentions), axis=1)"
   ]
  },
  {
   "cell_type": "code",
   "execution_count": 22,
   "metadata": {},
   "outputs": [],
   "source": [
    "dataset[\"text_numbers\"] = dataset.apply(lambda row: extract_match(tweet_preprocessor.parse(row[\"text\"]).numbers), axis=1)"
   ]
  },
  {
   "cell_type": "code",
   "execution_count": 23,
   "metadata": {},
   "outputs": [],
   "source": [
    "dataset[\"text_reserved\"] = dataset.apply(lambda row: extract_match(tweet_preprocessor.parse(row[\"text\"]).reserved), axis=1)"
   ]
  },
  {
   "cell_type": "code",
   "execution_count": 24,
   "metadata": {},
   "outputs": [],
   "source": [
    "dataset[\"text_reserved_words\"] = dataset.apply(lambda row: extract_match(tweet_preprocessor.parse(row[\"text\"]).reserved_words), axis=1)"
   ]
  },
  {
   "cell_type": "code",
   "execution_count": 25,
   "metadata": {},
   "outputs": [],
   "source": [
    "dataset[\"text_smileys\"] = dataset.apply(lambda row: extract_match(tweet_preprocessor.parse(row[\"text\"]).smileys), axis=1)"
   ]
  },
  {
   "cell_type": "code",
   "execution_count": 26,
   "metadata": {},
   "outputs": [],
   "source": [
    "dataset[\"text_urls\"] = dataset.apply(lambda row: extract_match(tweet_preprocessor.parse(row[\"text\"]).urls), axis=1)"
   ]
  },
  {
   "cell_type": "code",
   "execution_count": 27,
   "metadata": {},
   "outputs": [],
   "source": [
    "dataset[\"keyword_cleaned\"] = dataset.apply(lambda row: unquote(row[\"keyword\"]) if pd.notnull(row[\"keyword\"]) else None, axis=1)"
   ]
  },
  {
   "cell_type": "code",
   "execution_count": 28,
   "metadata": {},
   "outputs": [
    {
     "data": {
      "text/html": [
       "<div>\n",
       "<style scoped>\n",
       "    .dataframe tbody tr th:only-of-type {\n",
       "        vertical-align: middle;\n",
       "    }\n",
       "\n",
       "    .dataframe tbody tr th {\n",
       "        vertical-align: top;\n",
       "    }\n",
       "\n",
       "    .dataframe thead th {\n",
       "        text-align: right;\n",
       "    }\n",
       "</style>\n",
       "<table border=\"1\" class=\"dataframe\">\n",
       "  <thead>\n",
       "    <tr style=\"text-align: right;\">\n",
       "      <th></th>\n",
       "      <th>keyword</th>\n",
       "      <th>location</th>\n",
       "      <th>text</th>\n",
       "      <th>target</th>\n",
       "      <th>text_cleaned</th>\n",
       "      <th>text_tokenized</th>\n",
       "      <th>text_emojis</th>\n",
       "      <th>text_hashtags</th>\n",
       "      <th>text_mentions</th>\n",
       "      <th>text_numbers</th>\n",
       "      <th>text_reserved</th>\n",
       "      <th>text_reserved_words</th>\n",
       "      <th>text_smileys</th>\n",
       "      <th>text_urls</th>\n",
       "      <th>keyword_cleaned</th>\n",
       "    </tr>\n",
       "    <tr>\n",
       "      <th>id</th>\n",
       "      <th></th>\n",
       "      <th></th>\n",
       "      <th></th>\n",
       "      <th></th>\n",
       "      <th></th>\n",
       "      <th></th>\n",
       "      <th></th>\n",
       "      <th></th>\n",
       "      <th></th>\n",
       "      <th></th>\n",
       "      <th></th>\n",
       "      <th></th>\n",
       "      <th></th>\n",
       "      <th></th>\n",
       "      <th></th>\n",
       "    </tr>\n",
       "  </thead>\n",
       "  <tbody>\n",
       "    <tr>\n",
       "      <th>1</th>\n",
       "      <td>NaN</td>\n",
       "      <td>NaN</td>\n",
       "      <td>Our Deeds are the Reason of this #earthquake M...</td>\n",
       "      <td>1</td>\n",
       "      <td>Our Deeds are the Reason of this May ALLAH For...</td>\n",
       "      <td>Our Deeds are the Reason of this $HASHTAG$ May...</td>\n",
       "      <td>None</td>\n",
       "      <td>[#earthquake]</td>\n",
       "      <td>None</td>\n",
       "      <td>None</td>\n",
       "      <td>None</td>\n",
       "      <td>None</td>\n",
       "      <td>None</td>\n",
       "      <td>None</td>\n",
       "      <td>None</td>\n",
       "    </tr>\n",
       "    <tr>\n",
       "      <th>4</th>\n",
       "      <td>NaN</td>\n",
       "      <td>NaN</td>\n",
       "      <td>Forest fire near La Ronge Sask. Canada</td>\n",
       "      <td>1</td>\n",
       "      <td>Forest fire near La Ronge Sask. Canada</td>\n",
       "      <td>Forest fire near La Ronge Sask. Canada</td>\n",
       "      <td>None</td>\n",
       "      <td>None</td>\n",
       "      <td>None</td>\n",
       "      <td>None</td>\n",
       "      <td>None</td>\n",
       "      <td>None</td>\n",
       "      <td>None</td>\n",
       "      <td>None</td>\n",
       "      <td>None</td>\n",
       "    </tr>\n",
       "    <tr>\n",
       "      <th>5</th>\n",
       "      <td>NaN</td>\n",
       "      <td>NaN</td>\n",
       "      <td>All residents asked to 'shelter in place' are ...</td>\n",
       "      <td>1</td>\n",
       "      <td>All residents asked to 'shelter in place' are ...</td>\n",
       "      <td>All residents asked to 'shelter in place' are ...</td>\n",
       "      <td>None</td>\n",
       "      <td>None</td>\n",
       "      <td>None</td>\n",
       "      <td>None</td>\n",
       "      <td>None</td>\n",
       "      <td>None</td>\n",
       "      <td>None</td>\n",
       "      <td>None</td>\n",
       "      <td>None</td>\n",
       "    </tr>\n",
       "    <tr>\n",
       "      <th>6</th>\n",
       "      <td>NaN</td>\n",
       "      <td>NaN</td>\n",
       "      <td>13,000 people receive #wildfires evacuation or...</td>\n",
       "      <td>1</td>\n",
       "      <td>people receive evacuation orders in California</td>\n",
       "      <td>$NUMBER$ people receive $HASHTAG$ evacuation o...</td>\n",
       "      <td>None</td>\n",
       "      <td>[#wildfires]</td>\n",
       "      <td>None</td>\n",
       "      <td>[13,000]</td>\n",
       "      <td>None</td>\n",
       "      <td>None</td>\n",
       "      <td>None</td>\n",
       "      <td>None</td>\n",
       "      <td>None</td>\n",
       "    </tr>\n",
       "    <tr>\n",
       "      <th>7</th>\n",
       "      <td>NaN</td>\n",
       "      <td>NaN</td>\n",
       "      <td>Just got sent this photo from Ruby #Alaska as ...</td>\n",
       "      <td>1</td>\n",
       "      <td>Just got sent this photo from Ruby as smoke fr...</td>\n",
       "      <td>Just got sent this photo from Ruby $HASHTAG$ a...</td>\n",
       "      <td>None</td>\n",
       "      <td>[#Alaska, #wildfires]</td>\n",
       "      <td>None</td>\n",
       "      <td>None</td>\n",
       "      <td>None</td>\n",
       "      <td>None</td>\n",
       "      <td>None</td>\n",
       "      <td>None</td>\n",
       "      <td>None</td>\n",
       "    </tr>\n",
       "    <tr>\n",
       "      <th>...</th>\n",
       "      <td>...</td>\n",
       "      <td>...</td>\n",
       "      <td>...</td>\n",
       "      <td>...</td>\n",
       "      <td>...</td>\n",
       "      <td>...</td>\n",
       "      <td>...</td>\n",
       "      <td>...</td>\n",
       "      <td>...</td>\n",
       "      <td>...</td>\n",
       "      <td>...</td>\n",
       "      <td>...</td>\n",
       "      <td>...</td>\n",
       "      <td>...</td>\n",
       "      <td>...</td>\n",
       "    </tr>\n",
       "    <tr>\n",
       "      <th>10869</th>\n",
       "      <td>NaN</td>\n",
       "      <td>NaN</td>\n",
       "      <td>Two giant cranes holding a bridge collapse int...</td>\n",
       "      <td>1</td>\n",
       "      <td>Two giant cranes holding a bridge collapse int...</td>\n",
       "      <td>Two giant cranes holding a bridge collapse int...</td>\n",
       "      <td>None</td>\n",
       "      <td>None</td>\n",
       "      <td>None</td>\n",
       "      <td>None</td>\n",
       "      <td>None</td>\n",
       "      <td>None</td>\n",
       "      <td>None</td>\n",
       "      <td>[http://t.co/STfMbbZFB5]</td>\n",
       "      <td>None</td>\n",
       "    </tr>\n",
       "    <tr>\n",
       "      <th>10870</th>\n",
       "      <td>NaN</td>\n",
       "      <td>NaN</td>\n",
       "      <td>@aria_ahrary @TheTawniest The out of control w...</td>\n",
       "      <td>1</td>\n",
       "      <td>The out of control wild fires in California ev...</td>\n",
       "      <td>$MENTION$ $MENTION$ The out of control wild fi...</td>\n",
       "      <td>None</td>\n",
       "      <td>None</td>\n",
       "      <td>[@aria_ahrary, @TheTawniest]</td>\n",
       "      <td>None</td>\n",
       "      <td>None</td>\n",
       "      <td>None</td>\n",
       "      <td>None</td>\n",
       "      <td>None</td>\n",
       "      <td>None</td>\n",
       "    </tr>\n",
       "    <tr>\n",
       "      <th>10871</th>\n",
       "      <td>NaN</td>\n",
       "      <td>NaN</td>\n",
       "      <td>M1.94 [01:04 UTC]?5km S of Volcano Hawaii. htt...</td>\n",
       "      <td>1</td>\n",
       "      <td>M1.94 [01:04 UTC]?5km S of Volcano Hawaii.</td>\n",
       "      <td>M1.94 [01:04 UTC]?5km S of Volcano Hawaii. $URL$</td>\n",
       "      <td>None</td>\n",
       "      <td>None</td>\n",
       "      <td>None</td>\n",
       "      <td>None</td>\n",
       "      <td>None</td>\n",
       "      <td>None</td>\n",
       "      <td>None</td>\n",
       "      <td>[http://t.co/zDtoyd8EbJ]</td>\n",
       "      <td>None</td>\n",
       "    </tr>\n",
       "    <tr>\n",
       "      <th>10872</th>\n",
       "      <td>NaN</td>\n",
       "      <td>NaN</td>\n",
       "      <td>Police investigating after an e-bike collided ...</td>\n",
       "      <td>1</td>\n",
       "      <td>Police investigating after an e-bike collided ...</td>\n",
       "      <td>Police investigating after an e-bike collided ...</td>\n",
       "      <td>None</td>\n",
       "      <td>None</td>\n",
       "      <td>None</td>\n",
       "      <td>None</td>\n",
       "      <td>None</td>\n",
       "      <td>None</td>\n",
       "      <td>None</td>\n",
       "      <td>None</td>\n",
       "      <td>None</td>\n",
       "    </tr>\n",
       "    <tr>\n",
       "      <th>10873</th>\n",
       "      <td>NaN</td>\n",
       "      <td>NaN</td>\n",
       "      <td>The Latest: More Homes Razed by Northern Calif...</td>\n",
       "      <td>1</td>\n",
       "      <td>The Latest: More Homes Razed by Northern Calif...</td>\n",
       "      <td>The Latest: More Homes Razed by Northern Calif...</td>\n",
       "      <td>None</td>\n",
       "      <td>None</td>\n",
       "      <td>None</td>\n",
       "      <td>None</td>\n",
       "      <td>None</td>\n",
       "      <td>None</td>\n",
       "      <td>None</td>\n",
       "      <td>[http://t.co/YmY4rSkQ3d]</td>\n",
       "      <td>None</td>\n",
       "    </tr>\n",
       "  </tbody>\n",
       "</table>\n",
       "<p>7613 rows × 15 columns</p>\n",
       "</div>"
      ],
      "text/plain": [
       "      keyword location                                               text  \\\n",
       "id                                                                          \n",
       "1         NaN      NaN  Our Deeds are the Reason of this #earthquake M...   \n",
       "4         NaN      NaN             Forest fire near La Ronge Sask. Canada   \n",
       "5         NaN      NaN  All residents asked to 'shelter in place' are ...   \n",
       "6         NaN      NaN  13,000 people receive #wildfires evacuation or...   \n",
       "7         NaN      NaN  Just got sent this photo from Ruby #Alaska as ...   \n",
       "...       ...      ...                                                ...   \n",
       "10869     NaN      NaN  Two giant cranes holding a bridge collapse int...   \n",
       "10870     NaN      NaN  @aria_ahrary @TheTawniest The out of control w...   \n",
       "10871     NaN      NaN  M1.94 [01:04 UTC]?5km S of Volcano Hawaii. htt...   \n",
       "10872     NaN      NaN  Police investigating after an e-bike collided ...   \n",
       "10873     NaN      NaN  The Latest: More Homes Razed by Northern Calif...   \n",
       "\n",
       "       target                                       text_cleaned  \\\n",
       "id                                                                 \n",
       "1           1  Our Deeds are the Reason of this May ALLAH For...   \n",
       "4           1             Forest fire near La Ronge Sask. Canada   \n",
       "5           1  All residents asked to 'shelter in place' are ...   \n",
       "6           1     people receive evacuation orders in California   \n",
       "7           1  Just got sent this photo from Ruby as smoke fr...   \n",
       "...       ...                                                ...   \n",
       "10869       1  Two giant cranes holding a bridge collapse int...   \n",
       "10870       1  The out of control wild fires in California ev...   \n",
       "10871       1         M1.94 [01:04 UTC]?5km S of Volcano Hawaii.   \n",
       "10872       1  Police investigating after an e-bike collided ...   \n",
       "10873       1  The Latest: More Homes Razed by Northern Calif...   \n",
       "\n",
       "                                          text_tokenized text_emojis  \\\n",
       "id                                                                     \n",
       "1      Our Deeds are the Reason of this $HASHTAG$ May...        None   \n",
       "4                 Forest fire near La Ronge Sask. Canada        None   \n",
       "5      All residents asked to 'shelter in place' are ...        None   \n",
       "6      $NUMBER$ people receive $HASHTAG$ evacuation o...        None   \n",
       "7      Just got sent this photo from Ruby $HASHTAG$ a...        None   \n",
       "...                                                  ...         ...   \n",
       "10869  Two giant cranes holding a bridge collapse int...        None   \n",
       "10870  $MENTION$ $MENTION$ The out of control wild fi...        None   \n",
       "10871   M1.94 [01:04 UTC]?5km S of Volcano Hawaii. $URL$        None   \n",
       "10872  Police investigating after an e-bike collided ...        None   \n",
       "10873  The Latest: More Homes Razed by Northern Calif...        None   \n",
       "\n",
       "               text_hashtags                 text_mentions text_numbers  \\\n",
       "id                                                                        \n",
       "1              [#earthquake]                          None         None   \n",
       "4                       None                          None         None   \n",
       "5                       None                          None         None   \n",
       "6               [#wildfires]                          None     [13,000]   \n",
       "7      [#Alaska, #wildfires]                          None         None   \n",
       "...                      ...                           ...          ...   \n",
       "10869                   None                          None         None   \n",
       "10870                   None  [@aria_ahrary, @TheTawniest]         None   \n",
       "10871                   None                          None         None   \n",
       "10872                   None                          None         None   \n",
       "10873                   None                          None         None   \n",
       "\n",
       "      text_reserved text_reserved_words text_smileys  \\\n",
       "id                                                     \n",
       "1              None                None         None   \n",
       "4              None                None         None   \n",
       "5              None                None         None   \n",
       "6              None                None         None   \n",
       "7              None                None         None   \n",
       "...             ...                 ...          ...   \n",
       "10869          None                None         None   \n",
       "10870          None                None         None   \n",
       "10871          None                None         None   \n",
       "10872          None                None         None   \n",
       "10873          None                None         None   \n",
       "\n",
       "                      text_urls keyword_cleaned  \n",
       "id                                               \n",
       "1                          None            None  \n",
       "4                          None            None  \n",
       "5                          None            None  \n",
       "6                          None            None  \n",
       "7                          None            None  \n",
       "...                         ...             ...  \n",
       "10869  [http://t.co/STfMbbZFB5]            None  \n",
       "10870                      None            None  \n",
       "10871  [http://t.co/zDtoyd8EbJ]            None  \n",
       "10872                      None            None  \n",
       "10873  [http://t.co/YmY4rSkQ3d]            None  \n",
       "\n",
       "[7613 rows x 15 columns]"
      ]
     },
     "execution_count": 28,
     "metadata": {},
     "output_type": "execute_result"
    }
   ],
   "source": [
    "dataset"
   ]
  },
  {
   "cell_type": "code",
   "execution_count": 29,
   "metadata": {},
   "outputs": [
    {
     "data": {
      "text/html": [
       "<div>\n",
       "<style scoped>\n",
       "    .dataframe tbody tr th:only-of-type {\n",
       "        vertical-align: middle;\n",
       "    }\n",
       "\n",
       "    .dataframe tbody tr th {\n",
       "        vertical-align: top;\n",
       "    }\n",
       "\n",
       "    .dataframe thead th {\n",
       "        text-align: right;\n",
       "    }\n",
       "</style>\n",
       "<table border=\"1\" class=\"dataframe\">\n",
       "  <thead>\n",
       "    <tr style=\"text-align: right;\">\n",
       "      <th></th>\n",
       "      <th>keyword</th>\n",
       "      <th>location</th>\n",
       "      <th>text</th>\n",
       "      <th>target</th>\n",
       "      <th>text_cleaned</th>\n",
       "      <th>text_tokenized</th>\n",
       "      <th>text_emojis</th>\n",
       "      <th>text_hashtags</th>\n",
       "      <th>text_mentions</th>\n",
       "      <th>text_numbers</th>\n",
       "      <th>text_reserved</th>\n",
       "      <th>text_reserved_words</th>\n",
       "      <th>text_smileys</th>\n",
       "      <th>text_urls</th>\n",
       "      <th>keyword_cleaned</th>\n",
       "    </tr>\n",
       "  </thead>\n",
       "  <tbody>\n",
       "    <tr>\n",
       "      <th>count</th>\n",
       "      <td>7552</td>\n",
       "      <td>5080</td>\n",
       "      <td>7613</td>\n",
       "      <td>7613.00000</td>\n",
       "      <td>7613</td>\n",
       "      <td>7613</td>\n",
       "      <td>0</td>\n",
       "      <td>1761</td>\n",
       "      <td>2039</td>\n",
       "      <td>1505</td>\n",
       "      <td>46</td>\n",
       "      <td>0</td>\n",
       "      <td>74</td>\n",
       "      <td>3971</td>\n",
       "      <td>7552</td>\n",
       "    </tr>\n",
       "    <tr>\n",
       "      <th>unique</th>\n",
       "      <td>221</td>\n",
       "      <td>3341</td>\n",
       "      <td>7503</td>\n",
       "      <td>NaN</td>\n",
       "      <td>6841</td>\n",
       "      <td>6926</td>\n",
       "      <td>0</td>\n",
       "      <td>1360</td>\n",
       "      <td>1796</td>\n",
       "      <td>573</td>\n",
       "      <td>1</td>\n",
       "      <td>0</td>\n",
       "      <td>28</td>\n",
       "      <td>3888</td>\n",
       "      <td>221</td>\n",
       "    </tr>\n",
       "    <tr>\n",
       "      <th>top</th>\n",
       "      <td>fatalities</td>\n",
       "      <td>USA</td>\n",
       "      <td>11-Year-Old Boy Charged With Manslaughter of T...</td>\n",
       "      <td>NaN</td>\n",
       "      <td>Watch This Airport Get Swallowed Up By A Sands...</td>\n",
       "      <td>Watch This Airport Get Swallowed Up By A Sands...</td>\n",
       "      <td>NaN</td>\n",
       "      <td>[#hot, #prebreak, #best]</td>\n",
       "      <td>[@YouTube]</td>\n",
       "      <td>[ 2]</td>\n",
       "      <td>[RT]</td>\n",
       "      <td>NaN</td>\n",
       "      <td>[:)]</td>\n",
       "      <td>[http://t.co/qew4c5M1xd]</td>\n",
       "      <td>fatalities</td>\n",
       "    </tr>\n",
       "    <tr>\n",
       "      <th>freq</th>\n",
       "      <td>45</td>\n",
       "      <td>104</td>\n",
       "      <td>10</td>\n",
       "      <td>NaN</td>\n",
       "      <td>24</td>\n",
       "      <td>24</td>\n",
       "      <td>NaN</td>\n",
       "      <td>30</td>\n",
       "      <td>60</td>\n",
       "      <td>108</td>\n",
       "      <td>46</td>\n",
       "      <td>NaN</td>\n",
       "      <td>14</td>\n",
       "      <td>9</td>\n",
       "      <td>45</td>\n",
       "    </tr>\n",
       "    <tr>\n",
       "      <th>mean</th>\n",
       "      <td>NaN</td>\n",
       "      <td>NaN</td>\n",
       "      <td>NaN</td>\n",
       "      <td>0.42966</td>\n",
       "      <td>NaN</td>\n",
       "      <td>NaN</td>\n",
       "      <td>NaN</td>\n",
       "      <td>NaN</td>\n",
       "      <td>NaN</td>\n",
       "      <td>NaN</td>\n",
       "      <td>NaN</td>\n",
       "      <td>NaN</td>\n",
       "      <td>NaN</td>\n",
       "      <td>NaN</td>\n",
       "      <td>NaN</td>\n",
       "    </tr>\n",
       "    <tr>\n",
       "      <th>...</th>\n",
       "      <td>...</td>\n",
       "      <td>...</td>\n",
       "      <td>...</td>\n",
       "      <td>...</td>\n",
       "      <td>...</td>\n",
       "      <td>...</td>\n",
       "      <td>...</td>\n",
       "      <td>...</td>\n",
       "      <td>...</td>\n",
       "      <td>...</td>\n",
       "      <td>...</td>\n",
       "      <td>...</td>\n",
       "      <td>...</td>\n",
       "      <td>...</td>\n",
       "      <td>...</td>\n",
       "    </tr>\n",
       "    <tr>\n",
       "      <th>min</th>\n",
       "      <td>NaN</td>\n",
       "      <td>NaN</td>\n",
       "      <td>NaN</td>\n",
       "      <td>0.00000</td>\n",
       "      <td>NaN</td>\n",
       "      <td>NaN</td>\n",
       "      <td>NaN</td>\n",
       "      <td>NaN</td>\n",
       "      <td>NaN</td>\n",
       "      <td>NaN</td>\n",
       "      <td>NaN</td>\n",
       "      <td>NaN</td>\n",
       "      <td>NaN</td>\n",
       "      <td>NaN</td>\n",
       "      <td>NaN</td>\n",
       "    </tr>\n",
       "    <tr>\n",
       "      <th>25%</th>\n",
       "      <td>NaN</td>\n",
       "      <td>NaN</td>\n",
       "      <td>NaN</td>\n",
       "      <td>0.00000</td>\n",
       "      <td>NaN</td>\n",
       "      <td>NaN</td>\n",
       "      <td>NaN</td>\n",
       "      <td>NaN</td>\n",
       "      <td>NaN</td>\n",
       "      <td>NaN</td>\n",
       "      <td>NaN</td>\n",
       "      <td>NaN</td>\n",
       "      <td>NaN</td>\n",
       "      <td>NaN</td>\n",
       "      <td>NaN</td>\n",
       "    </tr>\n",
       "    <tr>\n",
       "      <th>50%</th>\n",
       "      <td>NaN</td>\n",
       "      <td>NaN</td>\n",
       "      <td>NaN</td>\n",
       "      <td>0.00000</td>\n",
       "      <td>NaN</td>\n",
       "      <td>NaN</td>\n",
       "      <td>NaN</td>\n",
       "      <td>NaN</td>\n",
       "      <td>NaN</td>\n",
       "      <td>NaN</td>\n",
       "      <td>NaN</td>\n",
       "      <td>NaN</td>\n",
       "      <td>NaN</td>\n",
       "      <td>NaN</td>\n",
       "      <td>NaN</td>\n",
       "    </tr>\n",
       "    <tr>\n",
       "      <th>75%</th>\n",
       "      <td>NaN</td>\n",
       "      <td>NaN</td>\n",
       "      <td>NaN</td>\n",
       "      <td>1.00000</td>\n",
       "      <td>NaN</td>\n",
       "      <td>NaN</td>\n",
       "      <td>NaN</td>\n",
       "      <td>NaN</td>\n",
       "      <td>NaN</td>\n",
       "      <td>NaN</td>\n",
       "      <td>NaN</td>\n",
       "      <td>NaN</td>\n",
       "      <td>NaN</td>\n",
       "      <td>NaN</td>\n",
       "      <td>NaN</td>\n",
       "    </tr>\n",
       "    <tr>\n",
       "      <th>max</th>\n",
       "      <td>NaN</td>\n",
       "      <td>NaN</td>\n",
       "      <td>NaN</td>\n",
       "      <td>1.00000</td>\n",
       "      <td>NaN</td>\n",
       "      <td>NaN</td>\n",
       "      <td>NaN</td>\n",
       "      <td>NaN</td>\n",
       "      <td>NaN</td>\n",
       "      <td>NaN</td>\n",
       "      <td>NaN</td>\n",
       "      <td>NaN</td>\n",
       "      <td>NaN</td>\n",
       "      <td>NaN</td>\n",
       "      <td>NaN</td>\n",
       "    </tr>\n",
       "  </tbody>\n",
       "</table>\n",
       "<p>11 rows × 15 columns</p>\n",
       "</div>"
      ],
      "text/plain": [
       "           keyword location  \\\n",
       "count         7552     5080   \n",
       "unique         221     3341   \n",
       "top     fatalities      USA   \n",
       "freq            45      104   \n",
       "mean           NaN      NaN   \n",
       "...            ...      ...   \n",
       "min            NaN      NaN   \n",
       "25%            NaN      NaN   \n",
       "50%            NaN      NaN   \n",
       "75%            NaN      NaN   \n",
       "max            NaN      NaN   \n",
       "\n",
       "                                                     text      target  \\\n",
       "count                                                7613  7613.00000   \n",
       "unique                                               7503         NaN   \n",
       "top     11-Year-Old Boy Charged With Manslaughter of T...         NaN   \n",
       "freq                                                   10         NaN   \n",
       "mean                                                  NaN     0.42966   \n",
       "...                                                   ...         ...   \n",
       "min                                                   NaN     0.00000   \n",
       "25%                                                   NaN     0.00000   \n",
       "50%                                                   NaN     0.00000   \n",
       "75%                                                   NaN     1.00000   \n",
       "max                                                   NaN     1.00000   \n",
       "\n",
       "                                             text_cleaned  \\\n",
       "count                                                7613   \n",
       "unique                                               6841   \n",
       "top     Watch This Airport Get Swallowed Up By A Sands...   \n",
       "freq                                                   24   \n",
       "mean                                                  NaN   \n",
       "...                                                   ...   \n",
       "min                                                   NaN   \n",
       "25%                                                   NaN   \n",
       "50%                                                   NaN   \n",
       "75%                                                   NaN   \n",
       "max                                                   NaN   \n",
       "\n",
       "                                           text_tokenized text_emojis  \\\n",
       "count                                                7613           0   \n",
       "unique                                               6926           0   \n",
       "top     Watch This Airport Get Swallowed Up By A Sands...         NaN   \n",
       "freq                                                   24         NaN   \n",
       "mean                                                  NaN         NaN   \n",
       "...                                                   ...         ...   \n",
       "min                                                   NaN         NaN   \n",
       "25%                                                   NaN         NaN   \n",
       "50%                                                   NaN         NaN   \n",
       "75%                                                   NaN         NaN   \n",
       "max                                                   NaN         NaN   \n",
       "\n",
       "                   text_hashtags text_mentions text_numbers text_reserved  \\\n",
       "count                       1761          2039         1505            46   \n",
       "unique                      1360          1796          573             1   \n",
       "top     [#hot, #prebreak, #best]    [@YouTube]         [ 2]          [RT]   \n",
       "freq                          30            60          108            46   \n",
       "mean                         NaN           NaN          NaN           NaN   \n",
       "...                          ...           ...          ...           ...   \n",
       "min                          NaN           NaN          NaN           NaN   \n",
       "25%                          NaN           NaN          NaN           NaN   \n",
       "50%                          NaN           NaN          NaN           NaN   \n",
       "75%                          NaN           NaN          NaN           NaN   \n",
       "max                          NaN           NaN          NaN           NaN   \n",
       "\n",
       "       text_reserved_words text_smileys                 text_urls  \\\n",
       "count                    0           74                      3971   \n",
       "unique                   0           28                      3888   \n",
       "top                    NaN         [:)]  [http://t.co/qew4c5M1xd]   \n",
       "freq                   NaN           14                         9   \n",
       "mean                   NaN          NaN                       NaN   \n",
       "...                    ...          ...                       ...   \n",
       "min                    NaN          NaN                       NaN   \n",
       "25%                    NaN          NaN                       NaN   \n",
       "50%                    NaN          NaN                       NaN   \n",
       "75%                    NaN          NaN                       NaN   \n",
       "max                    NaN          NaN                       NaN   \n",
       "\n",
       "       keyword_cleaned  \n",
       "count             7552  \n",
       "unique             221  \n",
       "top         fatalities  \n",
       "freq                45  \n",
       "mean               NaN  \n",
       "...                ...  \n",
       "min                NaN  \n",
       "25%                NaN  \n",
       "50%                NaN  \n",
       "75%                NaN  \n",
       "max                NaN  \n",
       "\n",
       "[11 rows x 15 columns]"
      ]
     },
     "execution_count": 29,
     "metadata": {},
     "output_type": "execute_result"
    }
   ],
   "source": [
    "dataset.describe(include = 'all')"
   ]
  },
  {
   "cell_type": "code",
   "execution_count": 30,
   "metadata": {},
   "outputs": [
    {
     "data": {
      "text/plain": [
       "[ 2]                    108\n",
       "[ 3]                     73\n",
       "[ 1]                     38\n",
       "[ 4]                     38\n",
       "[ 5]                     38\n",
       "                       ... \n",
       "[ 9,  2,  3942,  13]      1\n",
       "[ 20,  60,  10]           1\n",
       "[ 2003]                   1\n",
       "[ 5000]                   1\n",
       "[ 61]                     1\n",
       "Name: text_numbers, Length: 573, dtype: int64"
      ]
     },
     "execution_count": 30,
     "metadata": {},
     "output_type": "execute_result"
    }
   ],
   "source": [
    "dataset[\"text_numbers\"].value_counts()"
   ]
  },
  {
   "cell_type": "code",
   "execution_count": 31,
   "metadata": {},
   "outputs": [
    {
     "data": {
      "text/plain": [
       "[RT]    46\n",
       "Name: text_reserved, dtype: int64"
      ]
     },
     "execution_count": 31,
     "metadata": {},
     "output_type": "execute_result"
    }
   ],
   "source": [
    "dataset[\"text_reserved\"].value_counts()"
   ]
  },
  {
   "cell_type": "code",
   "execution_count": 32,
   "metadata": {},
   "outputs": [
    {
     "data": {
      "text/plain": [
       "[:)]            14\n",
       "[:(]             9\n",
       "[:D]             7\n",
       "[:P]             6\n",
       "[:-)]            6\n",
       "                ..\n",
       "[:S, :S, :s]     1\n",
       "[;Do]            1\n",
       "[:-D]            1\n",
       "[;P]             1\n",
       "[:\\\\\\]           1\n",
       "Name: text_smileys, Length: 28, dtype: int64"
      ]
     },
     "execution_count": 32,
     "metadata": {},
     "output_type": "execute_result"
    }
   ],
   "source": [
    "dataset[\"text_smileys\"].value_counts()"
   ]
  },
  {
   "cell_type": "code",
   "execution_count": 33,
   "metadata": {},
   "outputs": [
    {
     "data": {
      "text/plain": [
       "[#hot, #prebreak, #best]                30\n",
       "[#GBBO]                                 11\n",
       "[#, #, #, #]                             9\n",
       "[#]                                      9\n",
       "[#news]                                  9\n",
       "                                        ..\n",
       "[#oomf]                                  1\n",
       "[#Dutton, #presser]                      1\n",
       "[#RN, #Emergency, #Henderson, #jobs]     1\n",
       "[#Australia, #News, #MH370]              1\n",
       "[#Worm]                                  1\n",
       "Name: text_hashtags, Length: 1360, dtype: int64"
      ]
     },
     "execution_count": 33,
     "metadata": {},
     "output_type": "execute_result"
    }
   ],
   "source": [
    "dataset[\"text_hashtags\"].value_counts()"
   ]
  },
  {
   "cell_type": "code",
   "execution_count": 34,
   "metadata": {},
   "outputs": [
    {
     "data": {
      "text/plain": [
       "[@YouTube]                        60\n",
       "[@]                               29\n",
       "[@Change]                          9\n",
       "[@djicemoon]                       7\n",
       "[@POTUS]                           6\n",
       "                                  ..\n",
       "[@BlizzHeroes, @DustinBrowder]     1\n",
       "[@TheTXI, @GunnersFan89]           1\n",
       "[@TANSTAAFL23]                     1\n",
       "[@dicehateme, @PuppyShogun]        1\n",
       "[@Matt_Kroschel]                   1\n",
       "Name: text_mentions, Length: 1796, dtype: int64"
      ]
     },
     "execution_count": 34,
     "metadata": {},
     "output_type": "execute_result"
    }
   ],
   "source": [
    "dataset[\"text_mentions\"].value_counts()"
   ]
  },
  {
   "cell_type": "code",
   "execution_count": 35,
   "metadata": {},
   "outputs": [
    {
     "data": {
      "text/plain": [
       "[http://t.co/qew4c5M1xd]                            9\n",
       "[http://t.co/q2eBlOKeVE, http://t.co/eNCmhz6y34]    6\n",
       "[http://t.co/KSAwlYuX02]                            6\n",
       "[http://t.co/cybKsXHF7d]                            5\n",
       "[http://t.co/LvlH3W3aWO, http://t.co/vIwXY1XDYK]    4\n",
       "                                                   ..\n",
       "[http://t.co/bS6PjT09Tc]                            1\n",
       "[http://t.co/9asc1hhFNJ]                            1\n",
       "[http://t.co/i7EskymOec]                            1\n",
       "[http://t.co/aqinaVl1b6]                            1\n",
       "[http://t.co/VzgslEPkkH]                            1\n",
       "Name: text_urls, Length: 3888, dtype: int64"
      ]
     },
     "execution_count": 35,
     "metadata": {},
     "output_type": "execute_result"
    }
   ],
   "source": [
    "dataset[\"text_urls\"].value_counts()"
   ]
  },
  {
   "cell_type": "markdown",
   "metadata": {},
   "source": [
    "## Correlate features with disaster/not disaster target"
   ]
  },
  {
   "cell_type": "markdown",
   "metadata": {},
   "source": [
    "### Most common tokens in each class"
   ]
  },
  {
   "cell_type": "code",
   "execution_count": 36,
   "metadata": {},
   "outputs": [],
   "source": [
    "def get_lemmas(text, remove_stop_words=False, remove_punctuation=False):    \n",
    "    lemmas = []\n",
    "    for token in nlp(text):\n",
    "        if (not remove_stop_words or not token.is_stop) and (not remove_punctuation or not token.is_punct):\n",
    "            lemmas.append(token.lemma_)\n",
    "    return lemmas"
   ]
  },
  {
   "cell_type": "code",
   "execution_count": 37,
   "metadata": {},
   "outputs": [],
   "source": [
    "train_target_zero = dataset.loc[lambda row: row[\"target\"] == 0]\n",
    "train_target_one = dataset.loc[lambda row: row[\"target\"] == 1]"
   ]
  },
  {
   "cell_type": "code",
   "execution_count": 38,
   "metadata": {},
   "outputs": [],
   "source": [
    "lemmas_for_each_text_target_zero = [get_lemmas(text, remove_stop_words=True, remove_punctuation=True) for text in train_target_zero.text_cleaned.values]\n",
    "lemmas_for_each_text_target_one = [get_lemmas(text, remove_stop_words=True, remove_punctuation=True) for text in train_target_one.text_cleaned.values]\n",
    "\n",
    "lemmas_for_target_zero = [lemma for row in lemmas_for_each_text_target_zero for lemma in row]\n",
    "lemmas_for_target_one = [lemma for row in lemmas_for_each_text_target_one for lemma in row]"
   ]
  },
  {
   "cell_type": "code",
   "execution_count": 39,
   "metadata": {},
   "outputs": [],
   "source": [
    "most_common_target_zero = Counter(lemmas_for_target_zero).most_common(number_most_common_features)\n",
    "most_common_target_one = Counter(lemmas_for_target_one).most_common(number_most_common_features)"
   ]
  },
  {
   "cell_type": "code",
   "execution_count": 40,
   "metadata": {},
   "outputs": [
    {
     "data": {
      "text/plain": [
       "<BarContainer object of 30 artists>"
      ]
     },
     "execution_count": 40,
     "metadata": {},
     "output_type": "execute_result"
    },
    {
     "data": {
      "image/png": "[encoded data removed]",
      "text/plain": [
       "<Figure size 2160x360 with 1 Axes>"
      ]
     },
     "metadata": {
      "needs_background": "light"
     },
     "output_type": "display_data"
    }
   ],
   "source": [
    "plt.bar([token for token, freq in most_common_target_zero], [freq for token, freq in most_common_target_zero])"
   ]
  },
  {
   "cell_type": "code",
   "execution_count": 41,
   "metadata": {},
   "outputs": [
    {
     "data": {
      "text/plain": [
       "<BarContainer object of 30 artists>"
      ]
     },
     "execution_count": 41,
     "metadata": {},
     "output_type": "execute_result"
    },
    {
     "data": {
      "image/png": "[encoded data removed]",
      "text/plain": [
       "<Figure size 2160x360 with 1 Axes>"
      ]
     },
     "metadata": {
      "needs_background": "light"
     },
     "output_type": "display_data"
    }
   ],
   "source": [
    "plt.bar([token for token, freq in most_common_target_one], [freq for token, freq in most_common_target_one])"
   ]
  },
  {
   "cell_type": "code",
   "execution_count": 42,
   "metadata": {},
   "outputs": [],
   "source": [
    "lemmas_for_each_keyword_target_zero = [get_lemmas(text, remove_stop_words=False, remove_punctuation=True) if text is not None else [] for text in train_target_zero.keyword_cleaned.values]\n",
    "lemmas_for_each_keyword_target_one = [get_lemmas(text, remove_stop_words=False, remove_punctuation=True) if text is not None else [] for text in train_target_one.keyword_cleaned.values]\n",
    "\n",
    "keyword_lemmas_for_target_zero = [lemma for row in lemmas_for_each_keyword_target_zero for lemma in row]\n",
    "keyword_lemmas_for_target_one = [lemma for row in lemmas_for_each_keyword_target_one for lemma in row]"
   ]
  },
  {
   "cell_type": "code",
   "execution_count": 43,
   "metadata": {},
   "outputs": [],
   "source": [
    "most_common_keywords_target_zero = Counter(keyword_lemmas_for_target_zero).most_common(number_most_common_features)\n",
    "most_common_keywords_target_one = Counter(keyword_lemmas_for_target_one).most_common(number_most_common_features)"
   ]
  },
  {
   "cell_type": "code",
   "execution_count": 44,
   "metadata": {},
   "outputs": [
    {
     "data": {
      "text/plain": [
       "<BarContainer object of 30 artists>"
      ]
     },
     "execution_count": 44,
     "metadata": {},
     "output_type": "execute_result"
    },
    {
     "data": {
      "image/png": "[encoded data removed]",
      "text/plain": [
       "<Figure size 2160x360 with 1 Axes>"
      ]
     },
     "metadata": {
      "needs_background": "light"
     },
     "output_type": "display_data"
    }
   ],
   "source": [
    "plt.bar([token for token, freq in most_common_keywords_target_zero], [freq for token, freq in most_common_keywords_target_zero])"
   ]
  },
  {
   "cell_type": "code",
   "execution_count": 45,
   "metadata": {},
   "outputs": [
    {
     "data": {
      "text/plain": [
       "<BarContainer object of 30 artists>"
      ]
     },
     "execution_count": 45,
     "metadata": {},
     "output_type": "execute_result"
    },
    {
     "data": {
      "image/png": "[encoded data removed]",
      "text/plain": [
       "<Figure size 2160x360 with 1 Axes>"
      ]
     },
     "metadata": {
      "needs_background": "light"
     },
     "output_type": "display_data"
    }
   ],
   "source": [
    "plt.bar([token for token, freq in most_common_keywords_target_one], [freq for token, freq in most_common_keywords_target_one])"
   ]
  },
  {
   "cell_type": "code",
   "execution_count": 46,
   "metadata": {},
   "outputs": [
    {
     "data": {
      "text/plain": [
       "<BarContainer object of 30 artists>"
      ]
     },
     "execution_count": 46,
     "metadata": {},
     "output_type": "execute_result"
    },
    {
     "data": {
      "image/png": "[encoded data removed]",
      "text/plain": [
       "<Figure size 2160x360 with 1 Axes>"
      ]
     },
     "metadata": {
      "needs_background": "light"
     },
     "output_type": "display_data"
    }
   ],
   "source": [
    "most_common_location_target_zero = Counter(train_target_zero.location[~train_target_zero.location.isnull()]).most_common(number_most_common_features)\n",
    "plt.bar([token for token, freq in most_common_location_target_zero], [freq for token, freq in most_common_location_target_zero])"
   ]
  },
  {
   "cell_type": "code",
   "execution_count": 47,
   "metadata": {},
   "outputs": [
    {
     "data": {
      "text/plain": [
       "<BarContainer object of 30 artists>"
      ]
     },
     "execution_count": 47,
     "metadata": {},
     "output_type": "execute_result"
    },
    {
     "data": {
      "image/png": "[encoded data removed]",
      "text/plain": [
       "<Figure size 2160x360 with 1 Axes>"
      ]
     },
     "metadata": {
      "needs_background": "light"
     },
     "output_type": "display_data"
    }
   ],
   "source": [
    "most_common_location_target_one = Counter(train_target_one.location[~train_target_one.location.isnull()]).most_common(number_most_common_features)\n",
    "plt.bar([token for token, freq in most_common_location_target_one], [freq for token, freq in most_common_location_target_one])"
   ]
  },
  {
   "cell_type": "code",
   "execution_count": 48,
   "metadata": {},
   "outputs": [],
   "source": [
    "smiles_target_zero = [smile.lower() for smiles in train_target_zero.text_smileys.values[~train_target_zero.text_smileys.isnull()] for smile in smiles]\n",
    "smiles_target_one = [smile.lower() for smiles in train_target_one.text_smileys.values[~train_target_one.text_smileys.isnull()] for smile in smiles]\n",
    "\n",
    "most_common_smiles_target_zero = Counter(smiles_target_zero).most_common(number_most_common_features)\n",
    "most_common_smiles_target_one = Counter(smiles_target_one).most_common(number_most_common_features)"
   ]
  },
  {
   "cell_type": "code",
   "execution_count": 49,
   "metadata": {},
   "outputs": [
    {
     "data": {
      "text/plain": [
       "<BarContainer object of 18 artists>"
      ]
     },
     "execution_count": 49,
     "metadata": {},
     "output_type": "execute_result"
    },
    {
     "data": {
      "image/png": "[encoded data removed]",
      "text/plain": [
       "<Figure size 2160x360 with 1 Axes>"
      ]
     },
     "metadata": {
      "needs_background": "light"
     },
     "output_type": "display_data"
    }
   ],
   "source": [
    "plt.bar([token for token, freq in most_common_smiles_target_zero], [freq for token, freq in most_common_smiles_target_zero])"
   ]
  },
  {
   "cell_type": "code",
   "execution_count": 50,
   "metadata": {},
   "outputs": [
    {
     "data": {
      "text/plain": [
       "<BarContainer object of 12 artists>"
      ]
     },
     "execution_count": 50,
     "metadata": {},
     "output_type": "execute_result"
    },
    {
     "data": {
      "image/png": "[encoded data removed]",
      "text/plain": [
       "<Figure size 2160x360 with 1 Axes>"
      ]
     },
     "metadata": {
      "needs_background": "light"
     },
     "output_type": "display_data"
    }
   ],
   "source": [
    "plt.bar([token for token, freq in most_common_smiles_target_one], [freq for token, freq in most_common_smiles_target_one])"
   ]
  },
  {
   "cell_type": "code",
   "execution_count": 51,
   "metadata": {},
   "outputs": [],
   "source": [
    "hashtags_target_zero = [smile.lower() for smiles in train_target_zero.text_hashtags.values[~train_target_zero.text_hashtags.isnull()] for smile in smiles]\n",
    "hashtags_target_one = [smile.lower() for smiles in train_target_one.text_hashtags.values[~train_target_one.text_hashtags.isnull()] for smile in smiles]\n",
    "\n",
    "most_common_hashtags_target_zero = Counter(hashtags_target_zero).most_common(number_most_common_features)\n",
    "most_common_hashtags_target_one = Counter(hashtags_target_one).most_common(number_most_common_features)"
   ]
  },
  {
   "cell_type": "code",
   "execution_count": 52,
   "metadata": {},
   "outputs": [
    {
     "data": {
      "text/plain": [
       "<BarContainer object of 30 artists>"
      ]
     },
     "execution_count": 52,
     "metadata": {},
     "output_type": "execute_result"
    },
    {
     "data": {
      "image/png": "[encoded data removed]",
      "text/plain": [
       "<Figure size 2160x360 with 1 Axes>"
      ]
     },
     "metadata": {
      "needs_background": "light"
     },
     "output_type": "display_data"
    }
   ],
   "source": [
    "plt.bar([token for token, freq in most_common_hashtags_target_zero], [freq for token, freq in most_common_hashtags_target_zero])"
   ]
  },
  {
   "cell_type": "code",
   "execution_count": 53,
   "metadata": {},
   "outputs": [
    {
     "data": {
      "text/plain": [
       "<BarContainer object of 30 artists>"
      ]
     },
     "execution_count": 53,
     "metadata": {},
     "output_type": "execute_result"
    },
    {
     "data": {
      "image/png": "[encoded data removed]",
      "text/plain": [
       "<Figure size 2160x360 with 1 Axes>"
      ]
     },
     "metadata": {
      "needs_background": "light"
     },
     "output_type": "display_data"
    }
   ],
   "source": [
    "plt.bar([token for token, freq in most_common_hashtags_target_one], [freq for token, freq in most_common_hashtags_target_one])"
   ]
  },
  {
   "cell_type": "code",
   "execution_count": 54,
   "metadata": {},
   "outputs": [],
   "source": [
    "mentions_target_zero = [smile.lower() for smiles in train_target_zero.text_mentions.values[~train_target_zero.text_mentions.isnull()] for smile in smiles]\n",
    "mentions_target_one = [smile.lower() for smiles in train_target_one.text_mentions.values[~train_target_one.text_mentions.isnull()] for smile in smiles]\n",
    "\n",
    "most_common_mentions_target_zero = Counter(mentions_target_zero).most_common(number_most_common_features)\n",
    "most_common_mentions_target_one = Counter(mentions_target_one).most_common(number_most_common_features)"
   ]
  },
  {
   "cell_type": "code",
   "execution_count": 55,
   "metadata": {},
   "outputs": [
    {
     "data": {
      "text/plain": [
       "<BarContainer object of 30 artists>"
      ]
     },
     "execution_count": 55,
     "metadata": {},
     "output_type": "execute_result"
    },
    {
     "data": {
      "image/png": "[encoded data removed]",
      "text/plain": [
       "<Figure size 2160x360 with 1 Axes>"
      ]
     },
     "metadata": {
      "needs_background": "light"
     },
     "output_type": "display_data"
    }
   ],
   "source": [
    "plt.bar([token for token, freq in most_common_mentions_target_zero], [freq for token, freq in most_common_mentions_target_zero])"
   ]
  },
  {
   "cell_type": "code",
   "execution_count": 56,
   "metadata": {},
   "outputs": [
    {
     "data": {
      "text/plain": [
       "<BarContainer object of 30 artists>"
      ]
     },
     "execution_count": 56,
     "metadata": {},
     "output_type": "execute_result"
    },
    {
     "data": {
      "image/png": "[encoded data removed]",
      "text/plain": [
       "<Figure size 2160x360 with 1 Axes>"
      ]
     },
     "metadata": {
      "needs_background": "light"
     },
     "output_type": "display_data"
    }
   ],
   "source": [
    "plt.bar([token for token, freq in most_common_mentions_target_one], [freq for token, freq in most_common_mentions_target_one])"
   ]
  },
  {
   "cell_type": "markdown",
   "metadata": {},
   "source": [
    "### Number of tokens per example in each class"
   ]
  },
  {
   "cell_type": "code",
   "execution_count": 57,
   "metadata": {},
   "outputs": [
    {
     "data": {
      "text/plain": [
       "<matplotlib.axes._subplots.AxesSubplot at 0x7f581c01deb0>"
      ]
     },
     "execution_count": 57,
     "metadata": {},
     "output_type": "execute_result"
    },
    {
     "data": {
      "image/png": "[encoded data removed]",
      "text/plain": [
       "<Figure size 2160x360 with 1 Axes>"
      ]
     },
     "metadata": {
      "needs_background": "light"
     },
     "output_type": "display_data"
    }
   ],
   "source": [
    "train_target_zero.text_smileys.apply(lambda x: len(x) if x is not None else 0).hist(alpha=0.7)\n",
    "train_target_one.text_smileys.apply(lambda x: len(x) if x is not None else 0).hist(alpha=0.7)"
   ]
  },
  {
   "cell_type": "code",
   "execution_count": 58,
   "metadata": {},
   "outputs": [
    {
     "data": {
      "text/plain": [
       "<matplotlib.axes._subplots.AxesSubplot at 0x7f581bfa5160>"
      ]
     },
     "execution_count": 58,
     "metadata": {},
     "output_type": "execute_result"
    },
    {
     "data": {
      "image/png": "[encoded data removed]",
      "text/plain": [
       "<Figure size 2160x360 with 1 Axes>"
      ]
     },
     "metadata": {
      "needs_background": "light"
     },
     "output_type": "display_data"
    }
   ],
   "source": [
    "train_target_zero.text_hashtags.apply(lambda x: len(x) if x is not None else 0).hist(alpha=0.7)\n",
    "train_target_one.text_hashtags.apply(lambda x: len(x) if x is not None else 0).hist(alpha=0.7)"
   ]
  },
  {
   "cell_type": "code",
   "execution_count": 59,
   "metadata": {},
   "outputs": [
    {
     "data": {
      "text/plain": [
       "<matplotlib.axes._subplots.AxesSubplot at 0x7f581bf51130>"
      ]
     },
     "execution_count": 59,
     "metadata": {},
     "output_type": "execute_result"
    },
    {
     "data": {
      "image/png": "[encoded data removed]",
      "text/plain": [
       "<Figure size 2160x360 with 1 Axes>"
      ]
     },
     "metadata": {
      "needs_background": "light"
     },
     "output_type": "display_data"
    }
   ],
   "source": [
    "train_target_zero.text_urls.apply(lambda x: len(x) if x is not None else 0).hist(alpha=0.7)\n",
    "train_target_one.text_urls.apply(lambda x: len(x) if x is not None else 0).hist(alpha=0.7)"
   ]
  },
  {
   "cell_type": "code",
   "execution_count": 60,
   "metadata": {},
   "outputs": [
    {
     "data": {
      "text/plain": [
       "<matplotlib.axes._subplots.AxesSubplot at 0x7f581bed55b0>"
      ]
     },
     "execution_count": 60,
     "metadata": {},
     "output_type": "execute_result"
    },
    {
     "data": {
      "image/png": "[encoded data removed]",
      "text/plain": [
       "<Figure size 2160x360 with 1 Axes>"
      ]
     },
     "metadata": {
      "needs_background": "light"
     },
     "output_type": "display_data"
    }
   ],
   "source": [
    "train_target_zero.text_mentions.apply(lambda x: len(x) if x is not None else 0).hist(alpha=0.7)\n",
    "train_target_one.text_mentions.apply(lambda x: len(x) if x is not None else 0).hist(alpha=0.7)"
   ]
  },
  {
   "cell_type": "code",
   "execution_count": 61,
   "metadata": {},
   "outputs": [
    {
     "data": {
      "text/plain": [
       "<matplotlib.axes._subplots.AxesSubplot at 0x7f581be5b760>"
      ]
     },
     "execution_count": 61,
     "metadata": {},
     "output_type": "execute_result"
    },
    {
     "data": {
      "image/png": "[encoded data removed]",
      "text/plain": [
       "<Figure size 2160x360 with 1 Axes>"
      ]
     },
     "metadata": {
      "needs_background": "light"
     },
     "output_type": "display_data"
    }
   ],
   "source": [
    "train_target_zero.keyword_cleaned.apply(lambda x: len(x) if x is not None else 0).hist(alpha=0.7)\n",
    "train_target_one.keyword_cleaned.apply(lambda x: len(x) if x is not None else 0).hist(alpha=0.7)"
   ]
  },
  {
   "cell_type": "code",
   "execution_count": 62,
   "metadata": {},
   "outputs": [
    {
     "data": {
      "text/plain": [
       "<matplotlib.axes._subplots.AxesSubplot at 0x7f581bd7d160>"
      ]
     },
     "execution_count": 62,
     "metadata": {},
     "output_type": "execute_result"
    },
    {
     "data": {
      "image/png": "[encoded data removed]",
      "text/plain": [
       "<Figure size 2160x360 with 1 Axes>"
      ]
     },
     "metadata": {
      "needs_background": "light"
     },
     "output_type": "display_data"
    }
   ],
   "source": [
    "train_target_zero.text_cleaned.apply(lambda x: len(x) if x is not None else 0).hist(alpha=0.7)\n",
    "train_target_one.text_cleaned.apply(lambda x: len(x) if x is not None else 0).hist(alpha=0.7)"
   ]
  },
  {
   "cell_type": "markdown",
   "metadata": {},
   "source": [
    "## Conclusions"
   ]
  },
  {
   "cell_type": "markdown",
   "metadata": {},
   "source": [
    "* There are 52 duplicate rows in the dataset.\n",
    "* 56.8% of the tweets is classified as not disaster; the others are tweets from disaster scenes.\n",
    "* Tweet text and keywords need to be cleaned before being ready to be used.\n",
    "* The text and keyword tokens seem to have a big impact in the classification.\n",
    "* The location tokens may have an impact in the classification.\n",
    "* The hashtags, mentions and number of urls may help to classify the token.\n",
    "* Emojis, numbers, reserved and reserved words do not contain any information.\n",
    "* Smileys do not contain enough information to be considered relevant."
   ]
  },
  {
   "cell_type": "code",
   "execution_count": null,
   "metadata": {},
   "outputs": [],
   "source": []
  }
 ],
 "metadata": {
  "kernelspec": {
   "display_name": "Python 3",
   "language": "python",
   "name": "python3"
  },
  "language_info": {
   "codemirror_mode": {
    "name": "ipython",
    "version": 3
   },
   "file_extension": ".py",
   "mimetype": "text/x-python",
   "name": "python",
   "nbconvert_exporter": "python",
   "pygments_lexer": "ipython3",
   "version": "3.8.5"
  }
 },
 "nbformat": 4,
 "nbformat_minor": 4
}
