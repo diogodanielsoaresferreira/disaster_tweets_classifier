{
 "cells": [
  {
   "cell_type": "code",
   "execution_count": 1,
   "metadata": {},
   "outputs": [],
   "source": [
    "import yaml\n",
    "import pandas as pd\n",
    "from urllib.parse import unquote\n",
    "import preprocessor as tweet_preprocessor\n",
    "\n",
    "with open(\"params.yaml\", 'r') as stream:\n",
    "    config = yaml.safe_load(stream)"
   ]
  },
  {
   "cell_type": "code",
   "execution_count": 2,
   "metadata": {},
   "outputs": [],
   "source": [
    "def extract_match(text):\n",
    "    return [match.match for match in text] if text is not None else text"
   ]
  },
  {
   "cell_type": "code",
   "execution_count": 3,
   "metadata": {},
   "outputs": [],
   "source": [
    "def len_if_not_none(list):\n",
    "    return len(list) if list is not None else 0"
   ]
  },
  {
   "cell_type": "code",
   "execution_count": 4,
   "metadata": {},
   "outputs": [],
   "source": [
    "def apply_row_by_row(df, column, function):\n",
    "    return df.apply(lambda row: function(row[column]), axis=1)"
   ]
  },
  {
   "cell_type": "code",
   "execution_count": 5,
   "metadata": {},
   "outputs": [],
   "source": [
    "(pd.read_csv(config[\"raw_dataset_path\"], index_col = 0)\n",
    " .drop_duplicates()\n",
    " .assign(text_cleaned=lambda df: apply_row_by_row(df, \"text\", tweet_preprocessor.clean))\n",
    " .assign(tweet_tokenized=lambda df: apply_row_by_row(df, \"text\", tweet_preprocessor.tokenize))\n",
    " .assign(text_hashtags=lambda df: apply_row_by_row(df, \"text\", tweet_preprocessor.tokenize))\n",
    " .assign(text_parsed=lambda df: apply_row_by_row(df, \"text\", tweet_preprocessor.parse))\n",
    " .assign(text_hashtags=lambda df: apply_row_by_row(df, \"text_parsed\", lambda row: extract_match(row.hashtags)))\n",
    " .assign(text_mentions=lambda df: apply_row_by_row(df, \"text_parsed\", lambda row: extract_match(row.mentions)))\n",
    " .assign(text_urls=lambda df: apply_row_by_row(df, \"text_parsed\", lambda row: len_if_not_none(row.urls)))\n",
    " .assign(keyword_cleaned=lambda df: apply_row_by_row(df, \"keyword\", lambda row: unquote(row) if pd.notnull(row) else None))\n",
    " .drop(columns=[\"keyword\", \"text\", \"text_parsed\"])\n",
    " .reset_index(drop=True)\n",
    " .to_csv(config[\"processed_dataset_path\"], index=False)\n",
    ")"
   ]
  },
  {
   "cell_type": "code",
   "execution_count": null,
   "metadata": {},
   "outputs": [],
   "source": []
  }
 ],
 "metadata": {
  "kernelspec": {
   "display_name": "Python 3",
   "language": "python",
   "name": "python3"
  },
  "language_info": {
   "codemirror_mode": {
    "name": "ipython",
    "version": 3
   },
   "file_extension": ".py",
   "mimetype": "text/x-python",
   "name": "python",
   "nbconvert_exporter": "python",
   "pygments_lexer": "ipython3",
   "version": "3.8.5"
  }
 },
 "nbformat": 4,
 "nbformat_minor": 4
}
