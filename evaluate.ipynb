{
 "cells": [
  {
   "cell_type": "code",
   "execution_count": 1,
   "metadata": {},
   "outputs": [],
   "source": [
    "import yaml\n",
    "import json\n",
    "import pandas as pd\n",
    "from mlflow import start_run, log_metric, log_param, set_experiment\n",
    "from sklearn.metrics import accuracy_score, precision_score, recall_score, f1_score\n",
    "\n",
    "with open(\"params.yaml\", 'r') as stream:\n",
    "    config = yaml.safe_load(stream)"
   ]
  },
  {
   "cell_type": "code",
   "execution_count": 2,
   "metadata": {},
   "outputs": [],
   "source": [
    "train_labels = pd.read_csv(config[\"train_y_dataset_path\"])\n",
    "train_predictions = pd.read_csv(config[\"train_predictions_path\"])"
   ]
  },
  {
   "cell_type": "code",
   "execution_count": 3,
   "metadata": {},
   "outputs": [],
   "source": [
    "validation_labels = pd.read_csv(config[\"validation_y_dataset_path\"])\n",
    "validation_predictions = pd.read_csv(config[\"validation_predictions_path\"])"
   ]
  },
  {
   "cell_type": "code",
   "execution_count": 4,
   "metadata": {},
   "outputs": [],
   "source": [
    "set_experiment(config[\"experiment_name\"])\n",
    "with start_run(run_name=config[\"run_name\"]):\n",
    "    log_metric(\"train accuracy\", accuracy_score(train_labels, train_predictions))\n",
    "    log_metric(\"train recall\", recall_score(train_labels, train_predictions))\n",
    "    log_metric(\"train precision\", precision_score(train_labels, train_predictions))\n",
    "    log_metric(\"train f1_score\", f1_score(train_labels, train_predictions))\n",
    "    \n",
    "    log_metric(\"validation accuracy\", accuracy_score(validation_labels, validation_predictions))\n",
    "    log_metric(\"validation recall\", recall_score(validation_labels, validation_predictions))\n",
    "    log_metric(\"validation precision\", precision_score(validation_labels, validation_predictions))\n",
    "    log_metric(\"validation f1_score\", f1_score(validation_labels, validation_predictions))"
   ]
  },
  {
   "cell_type": "code",
   "execution_count": 5,
   "metadata": {},
   "outputs": [],
   "source": [
    "with open(config[\"metrics_path\"], 'w') as file:\n",
    "    metrics = {\n",
    "        \"train accuracy\": accuracy_score(train_labels, train_predictions),\n",
    "        \"train recall\": recall_score(train_labels, train_predictions),\n",
    "        \"train precision\": precision_score(train_labels, train_predictions),\n",
    "        \"train f1_score\": f1_score(train_labels, train_predictions),\n",
    "\n",
    "        \"validation accuracy\": accuracy_score(validation_labels, validation_predictions),\n",
    "        \"validation recall\": recall_score(validation_labels, validation_predictions),\n",
    "        \"validation precision\": precision_score(validation_labels, validation_predictions),\n",
    "        \"validation f1_score\": f1_score(validation_labels, validation_predictions)\n",
    "    }\n",
    "    file.write(json.dumps(metrics))"
   ]
  },
  {
   "cell_type": "code",
   "execution_count": null,
   "metadata": {},
   "outputs": [],
   "source": []
  }
 ],
 "metadata": {
  "kernelspec": {
   "display_name": "Python 3",
   "language": "python",
   "name": "python3"
  },
  "language_info": {
   "codemirror_mode": {
    "name": "ipython",
    "version": 3
   },
   "file_extension": ".py",
   "mimetype": "text/x-python",
   "name": "python",
   "nbconvert_exporter": "python",
   "pygments_lexer": "ipython3",
   "version": "3.8.5"
  }
 },
 "nbformat": 4,
 "nbformat_minor": 4
}
