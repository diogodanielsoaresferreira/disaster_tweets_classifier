{
 "cells": [
  {
   "cell_type": "code",
   "execution_count": 1,
   "metadata": {},
   "outputs": [],
   "source": [
    "import yaml\n",
    "import json\n",
    "import pandas as pd\n",
    "from mlflow import start_run, log_metric, log_param, set_experiment\n",
    "from sklearn.metrics import accuracy_score, precision_score, recall_score, f1_score\n",
    "\n",
    "with open(\"params.yaml\", 'r') as stream:\n",
    "    config = yaml.safe_load(stream)"
   ]
  },
  {
   "cell_type": "code",
   "execution_count": 2,
   "metadata": {},
   "outputs": [],
   "source": [
    "train_labels = pd.read_csv(config[\"train_y_dataset_path\"])\n",
    "train_predictions = pd.read_csv(config[\"train_predictions_path\"])"
   ]
  },
  {
   "cell_type": "code",
   "execution_count": 3,
   "metadata": {},
   "outputs": [],
   "source": [
    "validation_labels = pd.read_csv(config[\"validation_y_dataset_path\"])\n",
    "validation_predictions = pd.read_csv(config[\"validation_predictions_path\"])"
   ]
  },
  {
   "cell_type": "code",
   "execution_count": 4,
   "metadata": {},
   "outputs": [],
   "source": [
    "def log_to_mlflow(experiment_name, run_name, metric_names, metric_results):\n",
    "    set_experiment(experiment_name)\n",
    "    with start_run(run_name=run_name):\n",
    "        [log_metric(name, result) for name, result in zip(metric_names, metric_results)]"
   ]
  },
  {
   "cell_type": "code",
   "execution_count": 5,
   "metadata": {},
   "outputs": [],
   "source": [
    "def log_to_markdown(file_path, experiment_name, run_name, metric_names, metric_results):\n",
    "    with open(file_path, 'w') as file:\n",
    "        file.write(f'**{experiment_name} - {run_name}**\\n\\n')\n",
    "        [file.write(f'| {name} ') for name in metric_names]\n",
    "        file.write('|\\n')\n",
    "        file.write('| ----- '*len(metric_names))\n",
    "        file.write('|\\n')\n",
    "        [file.write(f'| {round(result, 6)} ') for result in metric_results]\n",
    "        file.write('|\\n')"
   ]
  },
  {
   "cell_type": "code",
   "execution_count": 6,
   "metadata": {},
   "outputs": [],
   "source": [
    "metric_names = [\n",
    "    \"train accuracy\",\n",
    "    \"train recall\",\n",
    "    \"train precision\",\n",
    "    \"train f1_score\",\n",
    "    \n",
    "    \"validation_accuracy\",\n",
    "    \"validation recall\",\n",
    "    \"validation_precision\",\n",
    "    \"validation f1_score\"\n",
    "]\n",
    "\n",
    "metric_results = [\n",
    "    accuracy_score(train_labels, train_predictions),\n",
    "    recall_score(train_labels, train_predictions),\n",
    "    precision_score(train_labels, train_predictions),\n",
    "    f1_score(train_labels, train_predictions),\n",
    "    \n",
    "    accuracy_score(validation_labels, validation_predictions),\n",
    "    recall_score(validation_labels, validation_predictions),\n",
    "    precision_score(validation_labels, validation_predictions),\n",
    "    f1_score(validation_labels, validation_predictions)\n",
    "]"
   ]
  },
  {
   "cell_type": "code",
   "execution_count": 7,
   "metadata": {},
   "outputs": [],
   "source": [
    "log_to_mlflow(config[\"experiment_name\"], config[\"run_name\"], metric_names, metric_results)\n",
    "log_to_markdown(config[\"metrics_path\"], config[\"experiment_name\"], config[\"run_name\"], metric_names, metric_results)"
   ]
  },
  {
   "cell_type": "code",
   "execution_count": null,
   "metadata": {},
   "outputs": [],
   "source": []
  }
 ],
 "metadata": {
  "kernelspec": {
   "display_name": "Python 3",
   "language": "python",
   "name": "python3"
  },
  "language_info": {
   "codemirror_mode": {
    "name": "ipython",
    "version": 3
   },
   "file_extension": ".py",
   "mimetype": "text/x-python",
   "name": "python",
   "nbconvert_exporter": "python",
   "pygments_lexer": "ipython3",
   "version": "3.8.5"
  }
 },
 "nbformat": 4,
 "nbformat_minor": 4
}
